{
 "cells": [
  {
   "cell_type": "code",
   "execution_count": null,
   "id": "ec480321",
   "metadata": {},
   "outputs": [
    {
     "name": "stdout",
     "output_type": "stream",
     "text": [
      "<Response [200]>\n",
      "40\n",
      "38\n",
      "40\n",
      "38\n",
      "<Response [200]>\n",
      "80\n",
      "76\n",
      "40\n",
      "76\n"
     ]
    }
   ],
   "source": [
    "import requests \n",
    "from bs4 import BeautifulSoup\n",
    "import pandas as pd\n",
    "from itertools import zip_longest\n",
    "\n",
    "Names = []\n",
    "old_price = []\n",
    "new_price = []\n",
    "percent_discount = []\n",
    "\n",
    "for i in range(1,3):\n",
    "    url = 'https://www.jumia.com.ng/catalog/?q=laptops+with+8gb+ram&page=1#catalog-listing'+str(i)\n",
    "    r = requests.get(url)\n",
    "    print(r)\n",
    "\n",
    "\n",
    "    soup = BeautifulSoup(r.text, 'lxml')\n",
    "    box = soup.find('div', class_ = '-paxs row _no-g _4cl-3cm-shs')\n",
    "    #print(soup)\n",
    "\n",
    "    names = box.find_all('h3', class_ = 'name')\n",
    "    #print(names)\n",
    "    for i in names:\n",
    "        n = i.text\n",
    "        Names.append(n)\n",
    "    print(len(Names))\n",
    "\n",
    "    o_price = box.find_all('div', class_ = 'old')\n",
    "    #print(o_price)\n",
    "\n",
    "    for i in o_price:\n",
    "        oprice = i.text\n",
    "        old_price.append(oprice)\n",
    "    print(len(old_price))\n",
    "\n",
    "    n_price = box.find_all('div', class_ = 'prc')\n",
    "    print(len(n_price))\n",
    "\n",
    "    for i in n_price:\n",
    "        n = i.text\n",
    "        new_price.append(n)\n",
    "    #print(new_price)\n",
    "\n",
    "    p_discount = box.find_all('div', class_ = 'bdg _dsct _sm')\n",
    "    #print(p_discount)\n",
    "\n",
    "    for i in p_discount:\n",
    "        p = i.text\n",
    "        percent_discount.append(p)\n",
    "    print(len(percent_discount))\n",
    "\n",
    "max_length = max(len(Names), len(old_price), len(new_price), len(percent_discount))\n",
    "\n",
    "# Use zip_longest to iterate over the lists and fill any missing values with a default value\n",
    "for n, o, np, pd in zip_longest(Names, old_price, new_price, percent_discount, fillvalue='N/A'):\n",
    "    Names.append(n)\n",
    "    old_price.append(o)\n",
    "    new_price.append(np)\n",
    "    percent_discount.append(pd)\n",
    "\n",
    "    \n",
    "df = pd.DataFrame({'Product Name':Names, 'Old Price':old_price, 'New Price':new_price, 'Discount':p_discount })\n",
    "\n",
    "    \n",
    "    #np = soup.find('a', class_ = '_1LKTO3').get('href')\n",
    "\n",
    "    #cnp = 'https://www.flipkart.com'+np\n",
    "    #print(cnp)"
   ]
  },
  {
   "cell_type": "code",
   "execution_count": 5,
   "id": "8b28b5e7",
   "metadata": {},
   "outputs": [
    {
     "ename": "NameError",
     "evalue": "name 'df' is not defined",
     "output_type": "error",
     "traceback": [
      "\u001b[1;31m---------------------------------------------------------------------------\u001b[0m",
      "\u001b[1;31mNameError\u001b[0m                                 Traceback (most recent call last)",
      "Cell \u001b[1;32mIn[5], line 1\u001b[0m\n\u001b[1;32m----> 1\u001b[0m df\n",
      "\u001b[1;31mNameError\u001b[0m: name 'df' is not defined"
     ]
    }
   ],
   "source": [
    "df"
   ]
  },
  {
   "cell_type": "code",
   "execution_count": null,
   "id": "3ee90c76",
   "metadata": {},
   "outputs": [],
   "source": []
  }
 ],
 "metadata": {
  "kernelspec": {
   "display_name": "Python 3 (ipykernel)",
   "language": "python",
   "name": "python3"
  },
  "language_info": {
   "codemirror_mode": {
    "name": "ipython",
    "version": 3
   },
   "file_extension": ".py",
   "mimetype": "text/x-python",
   "name": "python",
   "nbconvert_exporter": "python",
   "pygments_lexer": "ipython3",
   "version": "3.11.4"
  }
 },
 "nbformat": 4,
 "nbformat_minor": 5
}
