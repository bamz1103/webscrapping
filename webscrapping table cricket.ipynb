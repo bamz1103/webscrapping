{
 "cells": [
  {
   "cell_type": "code",
   "execution_count": 1,
   "id": "625f7501",
   "metadata": {},
   "outputs": [],
   "source": [
    "import requests \n",
    "import pandas as pd\n",
    "from bs4 import BeautifulSoup"
   ]
  },
  {
   "cell_type": "code",
   "execution_count": 2,
   "id": "c64a8bf6",
   "metadata": {},
   "outputs": [
    {
     "name": "stdout",
     "output_type": "stream",
     "text": [
      "['₹1,50,00,000', '8', '25', '₹4,45,00,000', '8', '25', '₹4,45,00,000', '8', '25', '₹1,65,00,000', '8', '22', '₹3,55,00,000', '8', '25', '₹5,00,000', '8', '24', '₹12,20,00,000', '7', '22', '₹3,35,00,000', '8', '25', '₹1,75,00,000', '8', '25', '₹6,55,00,000', '8', '25']\n"
     ]
    }
   ],
   "source": [
    "url = \"https://www.iplt20.com/auction\"\n",
    "\n",
    "r = requests.get(url)\n",
    "\n",
    "soup = BeautifulSoup(r.text, \"lxml\")\n",
    "\n",
    "names = soup.find_all('div', class_ = 'agv-team-name')\n",
    "\n",
    "team_name = []\n",
    "\n",
    "for i in names:\n",
    "    name = i.text\n",
    "    team_name.append(name)\n",
    "\n",
    "#print(team_name)\n",
    "\n",
    "price = soup.find_all('span', class_ = 'fr-fund')\n",
    "\n",
    "funds_remaining = []\n",
    "\n",
    "for i in price:\n",
    "    prices = i.text\n",
    "    funds_remaining.append(prices)\n",
    "print(funds_remaining)\n",
    "\n",
    "\n"
   ]
  },
  {
   "cell_type": "code",
   "execution_count": 3,
   "id": "57151324",
   "metadata": {},
   "outputs": [
    {
     "name": "stdout",
     "output_type": "stream",
     "text": [
      "['₹1,50,00,000', '₹4,45,00,000', '₹4,45,00,000', '₹1,65,00,000', '₹3,55,00,000', '₹5,00,000', '₹12,20,00,000', '₹3,35,00,000', '₹1,75,00,000', '₹6,55,00,000']\n"
     ]
    }
   ],
   "source": [
    "funds = []\n",
    "for i in range(0, len(funds_remaining), 3):\n",
    "    funds.append(funds_remaining[i])\n",
    "print(funds)"
   ]
  },
  {
   "cell_type": "code",
   "execution_count": 4,
   "id": "ff454d01",
   "metadata": {},
   "outputs": [
    {
     "name": "stdout",
     "output_type": "stream",
     "text": [
      "['8', '8', '8', '8', '8', '8', '7', '8', '8', '8']\n"
     ]
    }
   ],
   "source": [
    "overseas_players =[]\n",
    "for i in range(1, len(funds_remaining), 3):\n",
    "    overseas_players.append(funds_remaining[i])\n",
    "print(overseas_players)"
   ]
  },
  {
   "cell_type": "code",
   "execution_count": 5,
   "id": "72529c06",
   "metadata": {},
   "outputs": [
    {
     "name": "stdout",
     "output_type": "stream",
     "text": [
      "['25', '25', '25', '22', '25', '24', '22', '25', '25', '25']\n"
     ]
    }
   ],
   "source": [
    "total_players = [] \n",
    "for i in range(2, len(funds_remaining), 3):\n",
    "    total_players.append(funds_remaining[i])\n",
    "print(total_players)"
   ]
  },
  {
   "cell_type": "code",
   "execution_count": 6,
   "id": "bc2cdeee",
   "metadata": {},
   "outputs": [
    {
     "data": {
      "text/html": [
       "<div>\n",
       "<style scoped>\n",
       "    .dataframe tbody tr th:only-of-type {\n",
       "        vertical-align: middle;\n",
       "    }\n",
       "\n",
       "    .dataframe tbody tr th {\n",
       "        vertical-align: top;\n",
       "    }\n",
       "\n",
       "    .dataframe thead th {\n",
       "        text-align: right;\n",
       "    }\n",
       "</style>\n",
       "<table border=\"1\" class=\"dataframe\">\n",
       "  <thead>\n",
       "    <tr style=\"text-align: right;\">\n",
       "      <th></th>\n",
       "      <th>team_names</th>\n",
       "      <th>fund_remaining</th>\n",
       "      <th>oversea_players</th>\n",
       "      <th>total_players</th>\n",
       "    </tr>\n",
       "  </thead>\n",
       "  <tbody>\n",
       "    <tr>\n",
       "      <th>0</th>\n",
       "      <td>Chennai Super Kings</td>\n",
       "      <td>₹1,50,00,000</td>\n",
       "      <td>8</td>\n",
       "      <td>25</td>\n",
       "    </tr>\n",
       "    <tr>\n",
       "      <th>1</th>\n",
       "      <td>Delhi Capitals</td>\n",
       "      <td>₹4,45,00,000</td>\n",
       "      <td>8</td>\n",
       "      <td>25</td>\n",
       "    </tr>\n",
       "    <tr>\n",
       "      <th>2</th>\n",
       "      <td>Gujarat Titans</td>\n",
       "      <td>₹4,45,00,000</td>\n",
       "      <td>8</td>\n",
       "      <td>25</td>\n",
       "    </tr>\n",
       "    <tr>\n",
       "      <th>3</th>\n",
       "      <td>Kolkata Knight Riders</td>\n",
       "      <td>₹1,65,00,000</td>\n",
       "      <td>8</td>\n",
       "      <td>22</td>\n",
       "    </tr>\n",
       "    <tr>\n",
       "      <th>4</th>\n",
       "      <td>Lucknow Super Giants</td>\n",
       "      <td>₹3,55,00,000</td>\n",
       "      <td>8</td>\n",
       "      <td>25</td>\n",
       "    </tr>\n",
       "    <tr>\n",
       "      <th>5</th>\n",
       "      <td>Mumbai Indians</td>\n",
       "      <td>₹5,00,000</td>\n",
       "      <td>8</td>\n",
       "      <td>24</td>\n",
       "    </tr>\n",
       "    <tr>\n",
       "      <th>6</th>\n",
       "      <td>Punjab Kings</td>\n",
       "      <td>₹12,20,00,000</td>\n",
       "      <td>7</td>\n",
       "      <td>22</td>\n",
       "    </tr>\n",
       "    <tr>\n",
       "      <th>7</th>\n",
       "      <td>Rajasthan Royals</td>\n",
       "      <td>₹3,35,00,000</td>\n",
       "      <td>8</td>\n",
       "      <td>25</td>\n",
       "    </tr>\n",
       "    <tr>\n",
       "      <th>8</th>\n",
       "      <td>Royal Challengers Bangalore</td>\n",
       "      <td>₹1,75,00,000</td>\n",
       "      <td>8</td>\n",
       "      <td>25</td>\n",
       "    </tr>\n",
       "    <tr>\n",
       "      <th>9</th>\n",
       "      <td>Sunrisers Hyderabad</td>\n",
       "      <td>₹6,55,00,000</td>\n",
       "      <td>8</td>\n",
       "      <td>25</td>\n",
       "    </tr>\n",
       "  </tbody>\n",
       "</table>\n",
       "</div>"
      ],
      "text/plain": [
       "                    team_names fund_remaining oversea_players total_players\n",
       "0          Chennai Super Kings   ₹1,50,00,000               8            25\n",
       "1               Delhi Capitals   ₹4,45,00,000               8            25\n",
       "2               Gujarat Titans   ₹4,45,00,000               8            25\n",
       "3        Kolkata Knight Riders   ₹1,65,00,000               8            22\n",
       "4         Lucknow Super Giants   ₹3,55,00,000               8            25\n",
       "5               Mumbai Indians      ₹5,00,000               8            24\n",
       "6                 Punjab Kings  ₹12,20,00,000               7            22\n",
       "7             Rajasthan Royals   ₹3,35,00,000               8            25\n",
       "8  Royal Challengers Bangalore   ₹1,75,00,000               8            25\n",
       "9          Sunrisers Hyderabad   ₹6,55,00,000               8            25"
      ]
     },
     "execution_count": 6,
     "metadata": {},
     "output_type": "execute_result"
    }
   ],
   "source": [
    "df = pd.DataFrame({'team_names':team_name, 'fund_remaining':funds, 'oversea_players':overseas_players, 'total_players':total_players})\n",
    "df"
   ]
  },
  {
   "cell_type": "code",
   "execution_count": null,
   "id": "6c457155",
   "metadata": {},
   "outputs": [],
   "source": []
  }
 ],
 "metadata": {
  "kernelspec": {
   "display_name": "Python 3 (ipykernel)",
   "language": "python",
   "name": "python3"
  },
  "language_info": {
   "codemirror_mode": {
    "name": "ipython",
    "version": 3
   },
   "file_extension": ".py",
   "mimetype": "text/x-python",
   "name": "python",
   "nbconvert_exporter": "python",
   "pygments_lexer": "ipython3",
   "version": "3.11.4"
  }
 },
 "nbformat": 4,
 "nbformat_minor": 5
}
