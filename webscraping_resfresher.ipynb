{
 "cells": [
  {
   "cell_type": "code",
   "execution_count": 1,
   "metadata": {},
   "outputs": [],
   "source": [
    "import requests\n",
    "from bs4 import BeautifulSoup"
   ]
  },
  {
   "cell_type": "code",
   "execution_count": 3,
   "metadata": {},
   "outputs": [],
   "source": [
    "url = \"https://webscraper.io/test-sites/e-commerce/allinone/computers\"\n",
    "url2 = \"https://finance.yahoo.com/trending-tickers\"\n",
    "header = {\"User-Agent\": \"Mozilla/5.0 (Windows NT 10.0; Win64; x64) AppleWebKit/537.36 (KHTML, like Gecko) Chrome/116.0.0.0 Safari/537.36\"}\n",
    "r = requests.get(url,headers=header)\n",
    "soup = BeautifulSoup(r.text,\"lxml\")"
   ]
  },
  {
   "cell_type": "code",
   "execution_count": 26,
   "metadata": {},
   "outputs": [
    {
     "name": "stdout",
     "output_type": "stream",
     "text": [
      "<header class=\"navbar fixed-top navbar-expand-lg navbar-dark navbar-static\" role=\"banner\">\n",
      "<div class=\"container\">\n",
      "<div class=\"navbar-header\">\n",
      "<a data-bs-target=\".side-collapse\" data-bs-target-2=\".side-collapse-container\" data-bs-toggle=\"collapse-side\">\n",
      "<button aria-controls=\"navbar\" aria-expanded=\"false\" class=\"navbar-toggler float-end collapsed\" data-bs-target=\"#navbar\" data-bs-target-2=\".side-collapse-container\" data-bs-target-3=\".side-collapse\" data-bs-toggle=\"collapse\" type=\"button\">\n",
      "<span class=\"visually-hidden\">Toggle navigation</span>\n",
      "<span class=\"icon-bar top-bar\"></span>\n",
      "<span class=\"icon-bar middle-bar\"></span>\n",
      "<span class=\"icon-bar bottom-bar\"></span>\n",
      "<span class=\"icon-bar extra-bottom-bar\"></span>\n",
      "</button>\n",
      "</a>\n",
      "<div class=\"navbar-brand\">\n",
      "<a href=\"/\"><img alt=\"Web Scraper\" src=\"/img/logo_white.svg\"/></a>\n",
      "</div>\n",
      "</div>\n",
      "<div class=\"side-collapse in\">\n",
      "<nav class=\"navbar-collapse collapse\" id=\"navbar\" role=\"navigation\">\n",
      "<ul class=\"nav navbar-nav navbar-right\">\n",
      "<li class=\"nav-item\">\n",
      "<a class=\"nav-link menuitm\" href=\"/\">\n",
      "<p>Web Scraper</p>\n",
      "<div class=\"crta\"></div>\n",
      "</a>\n",
      "</li>\n",
      "<li class=\"nav-item\">\n",
      "<a class=\"nav-link menuitm\" href=\"/cloud-scraper\">\n",
      "<p>Cloud Scraper</p>\n",
      "<div class=\"crta\"></div>\n",
      "</a>\n",
      "</li>\n",
      "<li class=\"nav-item\">\n",
      "<a class=\"nav-link menuitm\" href=\"/pricing\">\n",
      "<p>Pricing</p>\n",
      "<div class=\"crta\"></div>\n",
      "</a>\n",
      "</li>\n",
      "<li class=\"nav-item dropdown\">\n",
      "<a aria-expanded=\"false\" aria-haspopup=\"true\" class=\"menuitm nav-link dropdown-toggle\" data-bs-toggle=\"dropdown\" href=\"#\" id=\"dropdownMenuLink\" role=\"button\">\n",
      "<p>Learn</p>\n",
      "<div class=\"crta\"></div>\n",
      "</a>\n",
      "<ul aria-labelledby=\"dropdownMenuLink\" class=\"dropdown-menu\">\n",
      "<li>\n",
      "<a class=\"dropdown-item\" href=\"/documentation\">Documentation</a>\n",
      "</li>\n",
      "<li>\n",
      "<a class=\"dropdown-item\" href=\"/tutorials\">Video Tutorials</a>\n",
      "</li>\n",
      "<li>\n",
      "<a class=\"dropdown-item\" href=\"/how-to-videos\">How to</a>\n",
      "</li>\n",
      "<li>\n",
      "<a class=\"dropdown-item\" href=\"/test-sites\">Test Sites</a>\n",
      "</li>\n",
      "<li>\n",
      "<a class=\"dropdown-item\" href=\"https://forum.webscraper.io/\" rel=\"noopener\" target=\"_blank\">Forum</a>\n",
      "</li>\n",
      "</ul>\n",
      "</li>\n",
      "<li class=\"nav-item\">\n",
      "<a class=\"nav-link btn-menu1 install-extension\" href=\"https://chrome.google.com/webstore/detail/web-scraper/jnhgnonknehpejjnehehllkliplmbmhn?hl=en\" target=\"_blank\">Install</a>\n",
      "</li>\n",
      "<li class=\"nav-item\">\n",
      "<a class=\"nav-link btn-menu2\" href=\"https://cloud.webscraper.io/\">Cloud Login</a>\n",
      "</li>\n",
      "</ul>\n",
      "</nav>\n",
      "</div>\n",
      "</div>\n",
      "</header>\n"
     ]
    }
   ],
   "source": [
    "tag = soup.header\n",
    "print(tag)"
   ]
  },
  {
   "cell_type": "code",
   "execution_count": 44,
   "metadata": {},
   "outputs": [
    {
     "name": "stdout",
     "output_type": "stream",
     "text": [
      "{'role': 'banner', 'class': ['navbar', 'fixed-top', 'navbar-expand-lg', 'navbar-dark', 'navbar-static']}\n",
      "['navbar', 'fixed-top', 'navbar-expand-lg', 'navbar-dark', 'navbar-static']\n",
      "banner\n"
     ]
    }
   ],
   "source": [
    "print(tag.attrs)\n",
    "atb = (tag.attrs)\n",
    "print(atb[\"class\"],atb[\"role\"],sep='\\n')"
   ]
  },
  {
   "cell_type": "code",
   "execution_count": 47,
   "metadata": {},
   "outputs": [
    {
     "name": "stdout",
     "output_type": "stream",
     "text": [
      "Web Scraper\n"
     ]
    }
   ],
   "source": [
    "# Navigable strings\n",
    "p_tag = soup.div.p.string\n",
    "print(p_tag)"
   ]
  },
  {
   "cell_type": "code",
   "execution_count": 55,
   "metadata": {},
   "outputs": [],
   "source": [
    "url3 = \"https://webscraper.io/test-sites/e-commerce/allinone\"\n",
    "r = requests.get(url3,headers=header)\n",
    "soup3 = BeautifulSoup(r.text,\"lxml\")"
   ]
  },
  {
   "cell_type": "code",
   "execution_count": 56,
   "metadata": {},
   "outputs": [],
   "source": [
    "tag = soup3.header.div.a.button.span"
   ]
  },
  {
   "cell_type": "code",
   "execution_count": 57,
   "metadata": {},
   "outputs": [
    {
     "name": "stdout",
     "output_type": "stream",
     "text": [
      "Toggle navigation\n"
     ]
    }
   ],
   "source": [
    "print(tag.string)"
   ]
  },
  {
   "cell_type": "markdown",
   "metadata": {},
   "source": [
    "FIND() FUNCTION"
   ]
  },
  {
   "cell_type": "code",
   "execution_count": 58,
   "metadata": {},
   "outputs": [],
   "source": [
    "url4 = \"https://webscraper.io/test-sites/e-commerce/allinone/computers/tablets\"\n",
    "\n",
    "header = {\"User-Agent\": \"Mozilla/5.0 (Windows NT 10.0; Win64; x64) AppleWebKit/537.36 (KHTML, like Gecko) Chrome/116.0.0.0 Safari/537.36\"}\n",
    "r = requests.get(url4,headers=header)\n",
    "soup = BeautifulSoup(r.text,\"lxml\")"
   ]
  },
  {
   "cell_type": "code",
   "execution_count": 59,
   "metadata": {},
   "outputs": [
    {
     "data": {
      "text/plain": [
       "<div class=\"container\">\n",
       "<div class=\"navbar-header\">\n",
       "<a data-bs-target=\".side-collapse\" data-bs-target-2=\".side-collapse-container\" data-bs-toggle=\"collapse-side\">\n",
       "<button aria-controls=\"navbar\" aria-expanded=\"false\" class=\"navbar-toggler float-end collapsed\" data-bs-target=\"#navbar\" data-bs-target-2=\".side-collapse-container\" data-bs-target-3=\".side-collapse\" data-bs-toggle=\"collapse\" type=\"button\">\n",
       "<span class=\"visually-hidden\">Toggle navigation</span>\n",
       "<span class=\"icon-bar top-bar\"></span>\n",
       "<span class=\"icon-bar middle-bar\"></span>\n",
       "<span class=\"icon-bar bottom-bar\"></span>\n",
       "<span class=\"icon-bar extra-bottom-bar\"></span>\n",
       "</button>\n",
       "</a>\n",
       "<div class=\"navbar-brand\">\n",
       "<a href=\"/\"><img alt=\"Web Scraper\" src=\"/img/logo_white.svg\"/></a>\n",
       "</div>\n",
       "</div>\n",
       "<div class=\"side-collapse in\">\n",
       "<nav class=\"navbar-collapse collapse\" id=\"navbar\" role=\"navigation\">\n",
       "<ul class=\"nav navbar-nav navbar-right\">\n",
       "<li class=\"nav-item\">\n",
       "<a class=\"nav-link menuitm\" href=\"/\">\n",
       "<p>Web Scraper</p>\n",
       "<div class=\"crta\"></div>\n",
       "</a>\n",
       "</li>\n",
       "<li class=\"nav-item\">\n",
       "<a class=\"nav-link menuitm\" href=\"/cloud-scraper\">\n",
       "<p>Cloud Scraper</p>\n",
       "<div class=\"crta\"></div>\n",
       "</a>\n",
       "</li>\n",
       "<li class=\"nav-item\">\n",
       "<a class=\"nav-link menuitm\" href=\"/pricing\">\n",
       "<p>Pricing</p>\n",
       "<div class=\"crta\"></div>\n",
       "</a>\n",
       "</li>\n",
       "<li class=\"nav-item dropdown\">\n",
       "<a aria-expanded=\"false\" aria-haspopup=\"true\" class=\"menuitm nav-link dropdown-toggle\" data-bs-toggle=\"dropdown\" href=\"#\" id=\"dropdownMenuLink\" role=\"button\">\n",
       "<p>Learn</p>\n",
       "<div class=\"crta\"></div>\n",
       "</a>\n",
       "<ul aria-labelledby=\"dropdownMenuLink\" class=\"dropdown-menu\">\n",
       "<li>\n",
       "<a class=\"dropdown-item\" href=\"/documentation\">Documentation</a>\n",
       "</li>\n",
       "<li>\n",
       "<a class=\"dropdown-item\" href=\"/tutorials\">Video Tutorials</a>\n",
       "</li>\n",
       "<li>\n",
       "<a class=\"dropdown-item\" href=\"/how-to-videos\">How to</a>\n",
       "</li>\n",
       "<li>\n",
       "<a class=\"dropdown-item\" href=\"/test-sites\">Test Sites</a>\n",
       "</li>\n",
       "<li>\n",
       "<a class=\"dropdown-item\" href=\"https://forum.webscraper.io/\" rel=\"noopener\" target=\"_blank\">Forum</a>\n",
       "</li>\n",
       "</ul>\n",
       "</li>\n",
       "<li class=\"nav-item\">\n",
       "<a class=\"nav-link btn-menu1 install-extension\" href=\"https://chrome.google.com/webstore/detail/web-scraper/jnhgnonknehpejjnehehllkliplmbmhn?hl=en\" target=\"_blank\">Install</a>\n",
       "</li>\n",
       "<li class=\"nav-item\">\n",
       "<a class=\"nav-link btn-menu2\" href=\"https://cloud.webscraper.io/\">Cloud Login</a>\n",
       "</li>\n",
       "</ul>\n",
       "</nav>\n",
       "</div>\n",
       "</div>"
      ]
     },
     "execution_count": 59,
     "metadata": {},
     "output_type": "execute_result"
    }
   ],
   "source": [
    "soup.find('div')"
   ]
  },
  {
   "cell_type": "code",
   "execution_count": 70,
   "metadata": {},
   "outputs": [
    {
     "name": "stdout",
     "output_type": "stream",
     "text": [
      "$69.99\n"
     ]
    }
   ],
   "source": [
    "pricetag = soup.find(\"h4\",{\"class\":\"float-end price card-title pull-right\"})\n",
    "print(pricetag.string)"
   ]
  },
  {
   "cell_type": "code",
   "execution_count": 76,
   "metadata": {},
   "outputs": [
    {
     "name": "stdout",
     "output_type": "stream",
     "text": [
      "7\" screen, Android\n",
      "7\" screen, Android\n"
     ]
    }
   ],
   "source": [
    "desc = soup.find(\"p\",{\"class\":\"description card-text\"})\n",
    "print(desc.string)\n",
    "desc = soup.find(\"p\",class_=\"description card-text\")\n",
    "print(desc.string)"
   ]
  },
  {
   "cell_type": "markdown",
   "metadata": {},
   "source": [
    "FINDALL() FUNCTION"
   ]
  },
  {
   "cell_type": "code",
   "execution_count": 79,
   "metadata": {},
   "outputs": [
    {
     "name": "stdout",
     "output_type": "stream",
     "text": [
      "$69.99\n",
      "$88.99\n",
      "$96.99\n",
      "$97.99\n",
      "$99.99\n",
      "$101.99\n",
      "$102.99\n",
      "$103.99\n",
      "$107.99\n",
      "$121.99\n",
      "$130.99\n",
      "$148.99\n",
      "$172.99\n",
      "$233.99\n",
      "$251.99\n",
      "$320.99\n",
      "$399.99\n",
      "$489.99\n",
      "$537.99\n",
      "$587.99\n",
      "$603.99\n"
     ]
    }
   ],
   "source": [
    "pricetags = soup.findAll(\"h4\",{\"class\":\"float-end price card-title pull-right\"})\n",
    "#print(len(pricetags))\n",
    "for i in pricetags:\n",
    "    print(i.string)"
   ]
  },
  {
   "cell_type": "code",
   "execution_count": 81,
   "metadata": {},
   "outputs": [
    {
     "data": {
      "text/plain": [
       "'$97.99'"
      ]
     },
     "execution_count": 81,
     "metadata": {},
     "output_type": "execute_result"
    }
   ],
   "source": [
    "pricetags[3].text"
   ]
  },
  {
   "cell_type": "code",
   "execution_count": 83,
   "metadata": {},
   "outputs": [
    {
     "name": "stdout",
     "output_type": "stream",
     "text": [
      "7\" screen, Android\n",
      "Black, 7\" IPS, Quad-Core 1.2GHz, 8GB, Android 4.2\n",
      "7\" screen, Android, 16GB\n",
      "7\", 8GB, Wi-Fi, Android 4.2, White\n",
      "Black, 7\", 1.6GHz Dual-Core, 8GB, Android 4.4\n",
      "IPS, Dual-Core 1.2GHz, 8GB, Android 4.3\n",
      "7\" screen, Android, 8GB\n",
      "6\" screen, wifi\n",
      "7\", 8GB, Wi-Fi, Android 4.2, Yellow\n",
      "Blue, 8\" IPS, Quad-Core 1.3GHz, 16GB, Android 4.2\n",
      "White, 7\", Atom 1.2GHz, 8GB, Android 4.4\n",
      "Blue, 7\" IPS, Quad-Core 1.3GHz, 8GB, 3G, Android 4.2\n",
      "Silver, 7\" IPS, Quad-Core 1.2Ghz, 16GB, 3G, Android 4.2\n",
      "LTE (SM-T235), Quad-Core 1.2GHz, 8GB, Black\n",
      "16GB, White\n",
      "White, 10.1\" IPS, 1.6GHz, 2GB, 16GB, Android 4.2\n",
      "10.1\", 3G, Android 4.0, Garnet Red\n",
      "12.2\", 32GB, WiFi, Android 4.4, White\n",
      "Wi-Fi + Cellular, 32GB, Silver\n",
      "10.1\", 32GB, Black\n",
      "Wi-Fi, 64GB, Silver\n"
     ]
    }
   ],
   "source": [
    "descs = soup.find_all(\"p\",{\"class\":\"description card-text\"})\n",
    "#print(descs)\n",
    "for desc in descs:\n",
    "    print(desc.text)\n"
   ]
  },
  {
   "cell_type": "code",
   "execution_count": 85,
   "metadata": {},
   "outputs": [
    {
     "data": {
      "text/plain": [
       "'7\", 8GB, Wi-Fi, Android 4.2, White'"
      ]
     },
     "execution_count": 85,
     "metadata": {},
     "output_type": "execute_result"
    }
   ],
   "source": [
    "descs[3].text"
   ]
  },
  {
   "cell_type": "markdown",
   "metadata": {
    "notebookRunGroups": {
     "groupValue": "1"
    }
   },
   "source": [
    "FINDALL() WITH REGEX"
   ]
  },
  {
   "cell_type": "code",
   "execution_count": 86,
   "metadata": {},
   "outputs": [],
   "source": [
    "import re"
   ]
  },
  {
   "cell_type": "code",
   "execution_count": 88,
   "metadata": {},
   "outputs": [
    {
     "name": "stdout",
     "output_type": "stream",
     "text": [
      "[<a data-bs-target=\".side-collapse\" data-bs-target-2=\".side-collapse-container\" data-bs-toggle=\"collapse-side\">\n",
      "<button aria-controls=\"navbar\" aria-expanded=\"false\" class=\"navbar-toggler float-end collapsed\" data-bs-target=\"#navbar\" data-bs-target-2=\".side-collapse-container\" data-bs-target-3=\".side-collapse\" data-bs-toggle=\"collapse\" type=\"button\">\n",
      "<span class=\"visually-hidden\">Toggle navigation</span>\n",
      "<span class=\"icon-bar top-bar\"></span>\n",
      "<span class=\"icon-bar middle-bar\"></span>\n",
      "<span class=\"icon-bar bottom-bar\"></span>\n",
      "<span class=\"icon-bar extra-bottom-bar\"></span>\n",
      "</button>\n",
      "</a>, <a href=\"/\"><img alt=\"Web Scraper\" src=\"/img/logo_white.svg\"/></a>, <a class=\"nav-link menuitm\" href=\"/\">\n",
      "<p>Web Scraper</p>\n",
      "<div class=\"crta\"></div>\n",
      "</a>, <p>Web Scraper</p>, <a class=\"nav-link menuitm\" href=\"/cloud-scraper\">\n",
      "<p>Cloud Scraper</p>\n",
      "<div class=\"crta\"></div>\n",
      "</a>, <p>Cloud Scraper</p>, <a class=\"nav-link menuitm\" href=\"/pricing\">\n",
      "<p>Pricing</p>\n",
      "<div class=\"crta\"></div>\n",
      "</a>, <p>Pricing</p>, <a aria-expanded=\"false\" aria-haspopup=\"true\" class=\"menuitm nav-link dropdown-toggle\" data-bs-toggle=\"dropdown\" href=\"#\" id=\"dropdownMenuLink\" role=\"button\">\n",
      "<p>Learn</p>\n",
      "<div class=\"crta\"></div>\n",
      "</a>, <p>Learn</p>, <a class=\"dropdown-item\" href=\"/documentation\">Documentation</a>, <a class=\"dropdown-item\" href=\"/tutorials\">Video Tutorials</a>, <a class=\"dropdown-item\" href=\"/how-to-videos\">How to</a>, <a class=\"dropdown-item\" href=\"/test-sites\">Test Sites</a>, <a class=\"dropdown-item\" href=\"https://forum.webscraper.io/\" rel=\"noopener\" target=\"_blank\">Forum</a>, <a class=\"nav-link btn-menu1 install-extension\" href=\"https://chrome.google.com/webstore/detail/web-scraper/jnhgnonknehpejjnehehllkliplmbmhn?hl=en\" target=\"_blank\">Install</a>, <a class=\"nav-link btn-menu2\" href=\"https://cloud.webscraper.io/\">Cloud Login</a>, <a class=\"nav-link\" href=\"/test-sites/e-commerce/allinone\">Home</a>, <a class=\"category-link nav-link\" href=\"/test-sites/e-commerce/allinone/phones\">\n",
      "\t\t\t\t\tPhones\n",
      "\t\t\t\t\t<i class=\"ws-icon ws-icon-right\"></i>\n",
      "</a>, <a class=\"category-link nav-link\" href=\"/test-sites/e-commerce/allinone/computers\">\n",
      "\t\t\t\t\tComputers\n",
      "\t\t\t\t\t<i class=\"ws-icon ws-icon-right\"></i>\n",
      "</a>, <a class=\"nav-link subcategory-link active\" href=\"/test-sites/e-commerce/allinone/computers/tablets\">\n",
      "\t\t\t\t\t\t\tTablets\n",
      "\t\t\t\t\t\t</a>, <a class=\"nav-link subcategory-link\" href=\"/test-sites/e-commerce/allinone/computers/laptops\">\n",
      "\t\t\t\t\t\t\tLaptops\n",
      "\t\t\t\t\t\t</a>, <h4 class=\"float-end price card-title pull-right\">$69.99</h4>, <h4>\n",
      "<a class=\"title\" href=\"/test-sites/e-commerce/allinone/product/495\" title=\"Lenovo IdeaTab\">Lenovo IdeaTab</a>\n",
      "</h4>, <a class=\"title\" href=\"/test-sites/e-commerce/allinone/product/495\" title=\"Lenovo IdeaTab\">Lenovo IdeaTab</a>, <p class=\"description card-text\">7\" screen, Android</p>, <p class=\"float-end review-count\">7 reviews</p>, <p data-rating=\"3\">\n",
      "<span class=\"ws-icon ws-icon-star\"></span>\n",
      "<span class=\"ws-icon ws-icon-star\"></span>\n",
      "<span class=\"ws-icon ws-icon-star\"></span>\n",
      "</p>, <h4 class=\"float-end price card-title pull-right\">$88.99</h4>, <h4>\n",
      "<a class=\"title\" href=\"/test-sites/e-commerce/allinone/product/500\" title=\"IdeaTab A3500L\">IdeaTab A3500L</a>\n",
      "</h4>, <a class=\"title\" href=\"/test-sites/e-commerce/allinone/product/500\" title=\"IdeaTab A3500L\">IdeaTab A3500L</a>, <p class=\"description card-text\">Black, 7\" IPS, Quad-Core 1.2GHz, 8GB, Android 4.2</p>, <p class=\"float-end review-count\">7 reviews</p>, <p data-rating=\"4\">\n",
      "<span class=\"ws-icon ws-icon-star\"></span>\n",
      "<span class=\"ws-icon ws-icon-star\"></span>\n",
      "<span class=\"ws-icon ws-icon-star\"></span>\n",
      "<span class=\"ws-icon ws-icon-star\"></span>\n",
      "</p>, <h4 class=\"float-end price card-title pull-right\">$96.99</h4>, <h4>\n",
      "<a class=\"title\" href=\"/test-sites/e-commerce/allinone/product/496\" title=\"Acer Iconia\">Acer Iconia</a>\n",
      "</h4>, <a class=\"title\" href=\"/test-sites/e-commerce/allinone/product/496\" title=\"Acer Iconia\">Acer Iconia</a>, <p class=\"description card-text\">7\" screen, Android, 16GB</p>, <p class=\"float-end review-count\">7 reviews</p>, <p data-rating=\"1\">\n",
      "<span class=\"ws-icon ws-icon-star\"></span>\n",
      "</p>, <h4 class=\"float-end price card-title pull-right\">$97.99</h4>, <h4>\n",
      "<a class=\"title\" href=\"/test-sites/e-commerce/allinone/product/503\" title=\"Galaxy Tab 3\">Galaxy Tab 3</a>\n",
      "</h4>, <a class=\"title\" href=\"/test-sites/e-commerce/allinone/product/503\" title=\"Galaxy Tab 3\">Galaxy Tab 3</a>, <p class=\"description card-text\">7\", 8GB, Wi-Fi, Android 4.2, White</p>, <p class=\"float-end review-count\">2 reviews</p>, <p data-rating=\"2\">\n",
      "<span class=\"ws-icon ws-icon-star\"></span>\n",
      "<span class=\"ws-icon ws-icon-star\"></span>\n",
      "</p>, <h4 class=\"float-end price card-title pull-right\">$99.99</h4>, <h4>\n",
      "<a class=\"title\" href=\"/test-sites/e-commerce/allinone/product/512\" title=\"Iconia B1-730HD\">Iconia B1-730H...</a>\n",
      "</h4>, <a class=\"title\" href=\"/test-sites/e-commerce/allinone/product/512\" title=\"Iconia B1-730HD\">Iconia B1-730H...</a>, <p class=\"description card-text\">Black, 7\", 1.6GHz Dual-Core, 8GB, Android 4.4</p>, <p class=\"float-end review-count\">1 reviews</p>, <p data-rating=\"3\">\n",
      "<span class=\"ws-icon ws-icon-star\"></span>\n",
      "<span class=\"ws-icon ws-icon-star\"></span>\n",
      "<span class=\"ws-icon ws-icon-star\"></span>\n",
      "</p>, <h4 class=\"float-end price card-title pull-right\">$101.99</h4>, <h4>\n",
      "<a class=\"title\" href=\"/test-sites/e-commerce/allinone/product/508\" title=\"Memo Pad HD 7\">Memo Pad HD 7</a>\n",
      "</h4>, <a class=\"title\" href=\"/test-sites/e-commerce/allinone/product/508\" title=\"Memo Pad HD 7\">Memo Pad HD 7</a>, <p class=\"description card-text\">IPS, Dual-Core 1.2GHz, 8GB, Android 4.3</p>, <p class=\"float-end review-count\">10 reviews</p>, <p data-rating=\"2\">\n",
      "<span class=\"ws-icon ws-icon-star\"></span>\n",
      "<span class=\"ws-icon ws-icon-star\"></span>\n",
      "</p>, <h4 class=\"float-end price card-title pull-right\">$102.99</h4>, <h4>\n",
      "<a class=\"title\" href=\"/test-sites/e-commerce/allinone/product/497\" title=\"Asus MeMO Pad\">Asus MeMO Pad</a>\n",
      "</h4>, <a class=\"title\" href=\"/test-sites/e-commerce/allinone/product/497\" title=\"Asus MeMO Pad\">Asus MeMO Pad</a>, <p class=\"description card-text\">7\" screen, Android, 8GB</p>, <p class=\"float-end review-count\">14 reviews</p>, <p data-rating=\"4\">\n",
      "<span class=\"ws-icon ws-icon-star\"></span>\n",
      "<span class=\"ws-icon ws-icon-star\"></span>\n",
      "<span class=\"ws-icon ws-icon-star\"></span>\n",
      "<span class=\"ws-icon ws-icon-star\"></span>\n",
      "</p>, <h4 class=\"float-end price card-title pull-right\">$103.99</h4>, <h4>\n",
      "<a class=\"title\" href=\"/test-sites/e-commerce/allinone/product/498\" title=\"Amazon Kindle\">Amazon Kindle</a>\n",
      "</h4>, <a class=\"title\" href=\"/test-sites/e-commerce/allinone/product/498\" title=\"Amazon Kindle\">Amazon Kindle</a>, <p class=\"description card-text\">6\" screen, wifi</p>, <p class=\"float-end review-count\">3 reviews</p>, <p data-rating=\"4\">\n",
      "<span class=\"ws-icon ws-icon-star\"></span>\n",
      "<span class=\"ws-icon ws-icon-star\"></span>\n",
      "<span class=\"ws-icon ws-icon-star\"></span>\n",
      "<span class=\"ws-icon ws-icon-star\"></span>\n",
      "</p>, <h4 class=\"float-end price card-title pull-right\">$107.99</h4>, <h4>\n",
      "<a class=\"title\" href=\"/test-sites/e-commerce/allinone/product/507\" title=\"Galaxy Tab 3\">Galaxy Tab 3</a>\n",
      "</h4>, <a class=\"title\" href=\"/test-sites/e-commerce/allinone/product/507\" title=\"Galaxy Tab 3\">Galaxy Tab 3</a>, <p class=\"description card-text\">7\", 8GB, Wi-Fi, Android 4.2, Yellow</p>, <p class=\"float-end review-count\">14 reviews</p>, <p data-rating=\"2\">\n",
      "<span class=\"ws-icon ws-icon-star\"></span>\n",
      "<span class=\"ws-icon ws-icon-star\"></span>\n",
      "</p>, <h4 class=\"float-end price card-title pull-right\">$121.99</h4>, <h4>\n",
      "<a class=\"title\" href=\"/test-sites/e-commerce/allinone/product/513\" title=\"IdeaTab A8-50\">IdeaTab A8-50</a>\n",
      "</h4>, <a class=\"title\" href=\"/test-sites/e-commerce/allinone/product/513\" title=\"IdeaTab A8-50\">IdeaTab A8-50</a>, <p class=\"description card-text\">Blue, 8\" IPS, Quad-Core 1.3GHz, 16GB, Android 4.2</p>, <p class=\"float-end review-count\">13 reviews</p>, <p data-rating=\"2\">\n",
      "<span class=\"ws-icon ws-icon-star\"></span>\n",
      "<span class=\"ws-icon ws-icon-star\"></span>\n",
      "</p>, <h4 class=\"float-end price card-title pull-right\">$130.99</h4>, <h4>\n",
      "<a class=\"title\" href=\"/test-sites/e-commerce/allinone/product/505\" title=\"MeMO Pad 7\">MeMO Pad 7</a>\n",
      "</h4>, <a class=\"title\" href=\"/test-sites/e-commerce/allinone/product/505\" title=\"MeMO Pad 7\">MeMO Pad 7</a>, <p class=\"description card-text\">White, 7\", Atom 1.2GHz, 8GB, Android 4.4</p>, <p class=\"float-end review-count\">11 reviews</p>, <p data-rating=\"1\">\n",
      "<span class=\"ws-icon ws-icon-star\"></span>\n",
      "</p>, <h4 class=\"float-end price card-title pull-right\">$148.99</h4>, <h4>\n",
      "<a class=\"title\" href=\"/test-sites/e-commerce/allinone/product/502\" title=\"IdeaTab A3500-H\">IdeaTab A3500-...</a>\n",
      "</h4>, <a class=\"title\" href=\"/test-sites/e-commerce/allinone/product/502\" title=\"IdeaTab A3500-H\">IdeaTab A3500-...</a>, <p class=\"description card-text\">Blue, 7\" IPS, Quad-Core 1.3GHz, 8GB, 3G, Android 4.2</p>, <p class=\"float-end review-count\">9 reviews</p>, <p data-rating=\"2\">\n",
      "<span class=\"ws-icon ws-icon-star\"></span>\n",
      "<span class=\"ws-icon ws-icon-star\"></span>\n",
      "</p>, <h4 class=\"float-end price card-title pull-right\">$172.99</h4>, <h4>\n",
      "<a class=\"title\" href=\"/test-sites/e-commerce/allinone/product/511\" title=\"IdeaTab S5000\">IdeaTab S5000</a>\n",
      "</h4>, <a class=\"title\" href=\"/test-sites/e-commerce/allinone/product/511\" title=\"IdeaTab S5000\">IdeaTab S5000</a>, <p class=\"description card-text\">Silver, 7\" IPS, Quad-Core 1.2Ghz, 16GB, 3G, Android 4.2</p>, <p class=\"float-end review-count\">8 reviews</p>, <p data-rating=\"3\">\n",
      "<span class=\"ws-icon ws-icon-star\"></span>\n",
      "<span class=\"ws-icon ws-icon-star\"></span>\n",
      "<span class=\"ws-icon ws-icon-star\"></span>\n",
      "</p>, <h4 class=\"float-end price card-title pull-right\">$233.99</h4>, <h4>\n",
      "<a class=\"title\" href=\"/test-sites/e-commerce/allinone/product/506\" title=\"Galaxy Tab 4\">Galaxy Tab 4</a>\n",
      "</h4>, <a class=\"title\" href=\"/test-sites/e-commerce/allinone/product/506\" title=\"Galaxy Tab 4\">Galaxy Tab 4</a>, <p class=\"description card-text\">LTE (SM-T235), Quad-Core 1.2GHz, 8GB, Black</p>, <p class=\"float-end review-count\">1 reviews</p>, <p data-rating=\"4\">\n",
      "<span class=\"ws-icon ws-icon-star\"></span>\n",
      "<span class=\"ws-icon ws-icon-star\"></span>\n",
      "<span class=\"ws-icon ws-icon-star\"></span>\n",
      "<span class=\"ws-icon ws-icon-star\"></span>\n",
      "</p>, <h4 class=\"float-end price card-title pull-right\">$251.99</h4>, <h4>\n",
      "<a class=\"title\" href=\"/test-sites/e-commerce/allinone/product/501\" title=\"Galaxy Tab\">Galaxy Tab</a>\n",
      "</h4>, <a class=\"title\" href=\"/test-sites/e-commerce/allinone/product/501\" title=\"Galaxy Tab\">Galaxy Tab</a>, <p class=\"description card-text\">16GB, White</p>, <p class=\"float-end review-count\">14 reviews</p>, <p data-rating=\"3\">\n",
      "<span class=\"ws-icon ws-icon-star\"></span>\n",
      "<span class=\"ws-icon ws-icon-star\"></span>\n",
      "<span class=\"ws-icon ws-icon-star\"></span>\n",
      "</p>, <h4 class=\"float-end price card-title pull-right\">$320.99</h4>, <h4>\n",
      "<a class=\"title\" href=\"/test-sites/e-commerce/allinone/product/510\" title=\"MeMo PAD FHD 10\">MeMo PAD FHD 1...</a>\n",
      "</h4>, <a class=\"title\" href=\"/test-sites/e-commerce/allinone/product/510\" title=\"MeMo PAD FHD 10\">MeMo PAD FHD 1...</a>, <p class=\"description card-text\">White, 10.1\" IPS, 1.6GHz, 2GB, 16GB, Android 4.2</p>, <p class=\"float-end review-count\">7 reviews</p>, <p data-rating=\"2\">\n",
      "<span class=\"ws-icon ws-icon-star\"></span>\n",
      "<span class=\"ws-icon ws-icon-star\"></span>\n",
      "</p>, <h4 class=\"float-end price card-title pull-right\">$399.99</h4>, <h4>\n",
      "<a class=\"title\" href=\"/test-sites/e-commerce/allinone/product/514\" title=\"Galaxy Note\">Galaxy Note</a>\n",
      "</h4>, <a class=\"title\" href=\"/test-sites/e-commerce/allinone/product/514\" title=\"Galaxy Note\">Galaxy Note</a>, <p class=\"description card-text\">10.1\", 3G, Android 4.0, Garnet Red</p>, <p class=\"float-end review-count\">12 reviews</p>, <p data-rating=\"4\">\n",
      "<span class=\"ws-icon ws-icon-star\"></span>\n",
      "<span class=\"ws-icon ws-icon-star\"></span>\n",
      "<span class=\"ws-icon ws-icon-star\"></span>\n",
      "<span class=\"ws-icon ws-icon-star\"></span>\n",
      "</p>, <h4 class=\"float-end price card-title pull-right\">$489.99</h4>, <h4>\n",
      "<a class=\"title\" href=\"/test-sites/e-commerce/allinone/product/504\" title=\"Galaxy Note\">Galaxy Note</a>\n",
      "</h4>, <a class=\"title\" href=\"/test-sites/e-commerce/allinone/product/504\" title=\"Galaxy Note\">Galaxy Note</a>, <p class=\"description card-text\">12.2\", 32GB, WiFi, Android 4.4, White</p>, <p class=\"float-end review-count\">9 reviews</p>, <p data-rating=\"3\">\n",
      "<span class=\"ws-icon ws-icon-star\"></span>\n",
      "<span class=\"ws-icon ws-icon-star\"></span>\n",
      "<span class=\"ws-icon ws-icon-star\"></span>\n",
      "</p>, <h4 class=\"float-end price card-title pull-right\">$537.99</h4>, <h4>\n",
      "<a class=\"title\" href=\"/test-sites/e-commerce/allinone/product/499\" title=\"iPad Mini Retina\">iPad Mini Reti...</a>\n",
      "</h4>, <a class=\"title\" href=\"/test-sites/e-commerce/allinone/product/499\" title=\"iPad Mini Retina\">iPad Mini Reti...</a>, <p class=\"description card-text\">Wi-Fi + Cellular, 32GB, Silver</p>, <p class=\"float-end review-count\">8 reviews</p>, <p data-rating=\"2\">\n",
      "<span class=\"ws-icon ws-icon-star\"></span>\n",
      "<span class=\"ws-icon ws-icon-star\"></span>\n",
      "</p>, <h4 class=\"float-end price card-title pull-right\">$587.99</h4>, <h4>\n",
      "<a class=\"title\" href=\"/test-sites/e-commerce/allinone/product/509\" title=\"Galaxy Note 10.1\">Galaxy Note 10...</a>\n",
      "</h4>, <a class=\"title\" href=\"/test-sites/e-commerce/allinone/product/509\" title=\"Galaxy Note 10.1\">Galaxy Note 10...</a>, <p class=\"description card-text\">10.1\", 32GB, Black</p>, <p class=\"float-end review-count\">6 reviews</p>, <p data-rating=\"2\">\n",
      "<span class=\"ws-icon ws-icon-star\"></span>\n",
      "<span class=\"ws-icon ws-icon-star\"></span>\n",
      "</p>, <h4 class=\"float-end price card-title pull-right\">$603.99</h4>, <h4>\n",
      "<a class=\"title\" href=\"/test-sites/e-commerce/allinone/product/515\" title=\"Apple iPad Air\">Apple iPad Air</a>\n",
      "</h4>, <a class=\"title\" href=\"/test-sites/e-commerce/allinone/product/515\" title=\"Apple iPad Air\">Apple iPad Air</a>, <p class=\"description card-text\">Wi-Fi, 64GB, Silver</p>, <p class=\"float-end review-count\">7 reviews</p>, <p data-rating=\"3\">\n",
      "<span class=\"ws-icon ws-icon-star\"></span>\n",
      "<span class=\"ws-icon ws-icon-star\"></span>\n",
      "<span class=\"ws-icon ws-icon-star\"></span>\n",
      "</p>, <p>Products</p>, <a href=\"/\">Web Scraper browser extension</a>, <a href=\"/pricing\">Web Scraper Cloud</a>, <p>Company</p>, <a href=\"/about-us\">About us</a>, <a href=\"/contact\">Contact</a>, <a href=\"/privacy-policy\">Website Privacy Policy</a>, <a href=\"/extension-privacy-policy\">Browser Extension Privacy Policy</a>, <a href=\"https://webscraper.io/downloads/Web_Scraper_Media_Kit.zip\">Media kit</a>, <a href=\"/jobs\">Jobs</a>, <p>Resources</p>, <a href=\"/blog\">Blog</a>, <a href=\"/documentation\">Documentation</a>, <a href=\"/tutorials\">Video Tutorials</a>, <a href=\"/screenshots\">Screenshots</a>, <a href=\"/test-sites\">Test Sites</a>, <a href=\"https://forum.webscraper.io/\" rel=\"noopener\" target=\"_blank\">Forum</a>, <a href=\"https://status.webscraper.io/\" rel=\"noopener\" target=\"_blank\">Status</a>, <p>CONTACT US</p>, <a href=\"mailto:info@webscraper.io\">info@webscraper.io</a>, <a href=\"https://www.facebook.com/webscraperio/\" rel=\"noopener\" target=\"_blank\">\n",
      "<i class=\"ws-icon ws-icon-facebook-f\"></i>\n",
      "</a>, <a href=\"https://twitter.com/webscraperio\" rel=\"noopener\" target=\"_blank\">\n",
      "<i class=\"ws-icon ws-icon-twitter\"></i>\n",
      "</a>, <p class=\"copyright\">Copyright &amp;copy 2023\n",
      "\t\t\t\t\t<a href=\"#\">Web Scraper</a> | All rights\n",
      "\t\t\t\t\treserved</p>, <a href=\"#\">Web Scraper</a>]\n"
     ]
    }
   ],
   "source": [
    "data = soup.find_all([\"h4\",\"a\",\"p\"])\n",
    "#print(data)"
   ]
  },
  {
   "cell_type": "code",
   "execution_count": 91,
   "metadata": {},
   "outputs": [
    {
     "name": "stdout",
     "output_type": "stream",
     "text": [
      "['Galaxy Tab 3', 'Galaxy Tab 3']\n",
      "['Galaxy Tab']\n"
     ]
    }
   ],
   "source": [
    "data = soup.find_all(string=\"Galaxy Tab 3\")\n",
    "print(data)\n",
    "data = soup.find_all(string=\"Galaxy Tab\")\n",
    "print(data)"
   ]
  },
  {
   "cell_type": "code",
   "execution_count": 94,
   "metadata": {},
   "outputs": [
    {
     "name": "stdout",
     "output_type": "stream",
     "text": [
      "['Galaxy Tab 3', 'Galaxy Tab 3', 'Galaxy Tab 4', 'Galaxy Tab', 'Galaxy Note', 'Galaxy Note', 'Galaxy Note 10...']\n"
     ]
    }
   ],
   "source": [
    "#REGEX\n",
    "data = soup.find_all(string=re.compile(\"Galaxy\"))\n",
    "print(data)"
   ]
  },
  {
   "cell_type": "code",
   "execution_count": 95,
   "metadata": {},
   "outputs": [
    {
     "name": "stdout",
     "output_type": "stream",
     "text": [
      "['Lenovo IdeaTab', 'IdeaTab A3500L', 'IdeaTab A8-50', 'IdeaTab A3500-...', 'IdeaTab S5000']\n"
     ]
    }
   ],
   "source": [
    "data = soup.find_all(string=re.compile(\"Idea\"))\n",
    "print(data)"
   ]
  },
  {
   "cell_type": "markdown",
   "metadata": {
    "notebookRunGroups": {
     "groupValue": ""
    }
   },
   "source": [
    "FINDALL() WITH PANDAS"
   ]
  },
  {
   "cell_type": "code",
   "execution_count": 106,
   "metadata": {},
   "outputs": [],
   "source": [
    "import pandas as pd"
   ]
  },
  {
   "cell_type": "code",
   "execution_count": 99,
   "metadata": {},
   "outputs": [
    {
     "data": {
      "text/plain": [
       "['Lenovo IdeaTab',\n",
       " 'IdeaTab A3500L',\n",
       " 'Acer Iconia',\n",
       " 'Galaxy Tab 3',\n",
       " 'Iconia B1-730H...',\n",
       " 'Memo Pad HD 7',\n",
       " 'Asus MeMO Pad',\n",
       " 'Amazon Kindle',\n",
       " 'Galaxy Tab 3',\n",
       " 'IdeaTab A8-50',\n",
       " 'MeMO Pad 7',\n",
       " 'IdeaTab A3500-...',\n",
       " 'IdeaTab S5000',\n",
       " 'Galaxy Tab 4',\n",
       " 'Galaxy Tab',\n",
       " 'MeMo PAD FHD 1...',\n",
       " 'Galaxy Note',\n",
       " 'Galaxy Note',\n",
       " 'iPad Mini Reti...',\n",
       " 'Galaxy Note 10...',\n",
       " 'Apple iPad Air']"
      ]
     },
     "execution_count": 99,
     "metadata": {},
     "output_type": "execute_result"
    }
   ],
   "source": [
    "names = soup.find_all(\"a\",class_=\"title\")\n",
    "#print(names)\n",
    "product_name = []\n",
    "for product in names:\n",
    "    name = product.text\n",
    "    product_name.append(name)\n",
    "product_name"
   ]
  },
  {
   "cell_type": "code",
   "execution_count": 101,
   "metadata": {},
   "outputs": [
    {
     "data": {
      "text/plain": [
       "['$69.99',\n",
       " '$88.99',\n",
       " '$96.99',\n",
       " '$97.99',\n",
       " '$99.99',\n",
       " '$101.99',\n",
       " '$102.99',\n",
       " '$103.99',\n",
       " '$107.99',\n",
       " '$121.99',\n",
       " '$130.99',\n",
       " '$148.99',\n",
       " '$172.99',\n",
       " '$233.99',\n",
       " '$251.99',\n",
       " '$320.99',\n",
       " '$399.99',\n",
       " '$489.99',\n",
       " '$537.99',\n",
       " '$587.99',\n",
       " '$603.99']"
      ]
     },
     "execution_count": 101,
     "metadata": {},
     "output_type": "execute_result"
    }
   ],
   "source": [
    "prices = soup.findAll(\"h4\",{\"class\":\"float-end price card-title pull-right\"})\n",
    "pricetags = []\n",
    "for price in prices:\n",
    "    pricetag = price.string\n",
    "    pricetags.append(pricetag)\n",
    "pricetags"
   ]
  },
  {
   "cell_type": "code",
   "execution_count": 102,
   "metadata": {},
   "outputs": [
    {
     "data": {
      "text/plain": [
       "['7\" screen, Android',\n",
       " 'Black, 7\" IPS, Quad-Core 1.2GHz, 8GB, Android 4.2',\n",
       " '7\" screen, Android, 16GB',\n",
       " '7\", 8GB, Wi-Fi, Android 4.2, White',\n",
       " 'Black, 7\", 1.6GHz Dual-Core, 8GB, Android 4.4',\n",
       " 'IPS, Dual-Core 1.2GHz, 8GB, Android 4.3',\n",
       " '7\" screen, Android, 8GB',\n",
       " '6\" screen, wifi',\n",
       " '7\", 8GB, Wi-Fi, Android 4.2, Yellow',\n",
       " 'Blue, 8\" IPS, Quad-Core 1.3GHz, 16GB, Android 4.2',\n",
       " 'White, 7\", Atom 1.2GHz, 8GB, Android 4.4',\n",
       " 'Blue, 7\" IPS, Quad-Core 1.3GHz, 8GB, 3G, Android 4.2',\n",
       " 'Silver, 7\" IPS, Quad-Core 1.2Ghz, 16GB, 3G, Android 4.2',\n",
       " 'LTE (SM-T235), Quad-Core 1.2GHz, 8GB, Black',\n",
       " '16GB, White',\n",
       " 'White, 10.1\" IPS, 1.6GHz, 2GB, 16GB, Android 4.2',\n",
       " '10.1\", 3G, Android 4.0, Garnet Red',\n",
       " '12.2\", 32GB, WiFi, Android 4.4, White',\n",
       " 'Wi-Fi + Cellular, 32GB, Silver',\n",
       " '10.1\", 32GB, Black',\n",
       " 'Wi-Fi, 64GB, Silver']"
      ]
     },
     "execution_count": 102,
     "metadata": {},
     "output_type": "execute_result"
    }
   ],
   "source": [
    "descs = soup.find_all(\"p\",{\"class\":\"description card-text\"})\n",
    "descriptions = []\n",
    "for desc in descs:\n",
    "    description = desc.text\n",
    "    descriptions.append(description)\n",
    "descriptions\n"
   ]
  },
  {
   "cell_type": "code",
   "execution_count": 105,
   "metadata": {},
   "outputs": [
    {
     "data": {
      "text/plain": [
       "['7 reviews',\n",
       " '7 reviews',\n",
       " '7 reviews',\n",
       " '2 reviews',\n",
       " '1 reviews',\n",
       " '10 reviews',\n",
       " '14 reviews',\n",
       " '3 reviews',\n",
       " '14 reviews',\n",
       " '13 reviews',\n",
       " '11 reviews',\n",
       " '9 reviews',\n",
       " '8 reviews',\n",
       " '1 reviews',\n",
       " '14 reviews',\n",
       " '7 reviews',\n",
       " '12 reviews',\n",
       " '9 reviews',\n",
       " '8 reviews',\n",
       " '6 reviews',\n",
       " '7 reviews']"
      ]
     },
     "execution_count": 105,
     "metadata": {},
     "output_type": "execute_result"
    }
   ],
   "source": [
    "reviews = soup.find_all(\"p\",class_=\"float-end review-count\")\n",
    "review_count = []\n",
    "for review in reviews:\n",
    "    data = review.text\n",
    "    review_count.append(data)\n",
    "review_count"
   ]
  },
  {
   "cell_type": "code",
   "execution_count": 117,
   "metadata": {},
   "outputs": [
    {
     "data": {
      "text/html": [
       "<div>\n",
       "<style scoped>\n",
       "    .dataframe tbody tr th:only-of-type {\n",
       "        vertical-align: middle;\n",
       "    }\n",
       "\n",
       "    .dataframe tbody tr th {\n",
       "        vertical-align: top;\n",
       "    }\n",
       "\n",
       "    .dataframe thead th {\n",
       "        text-align: right;\n",
       "    }\n",
       "</style>\n",
       "<table border=\"1\" class=\"dataframe\">\n",
       "  <thead>\n",
       "    <tr style=\"text-align: right;\">\n",
       "      <th></th>\n",
       "      <th>product name</th>\n",
       "      <th>price</th>\n",
       "      <th>description</th>\n",
       "      <th>reviews</th>\n",
       "    </tr>\n",
       "    <tr>\n",
       "      <th>id</th>\n",
       "      <th></th>\n",
       "      <th></th>\n",
       "      <th></th>\n",
       "      <th></th>\n",
       "    </tr>\n",
       "  </thead>\n",
       "  <tbody>\n",
       "    <tr>\n",
       "      <th>1</th>\n",
       "      <td>Lenovo IdeaTab</td>\n",
       "      <td>$69.99</td>\n",
       "      <td>7\" screen, Android</td>\n",
       "      <td>7 reviews</td>\n",
       "    </tr>\n",
       "    <tr>\n",
       "      <th>2</th>\n",
       "      <td>IdeaTab A3500L</td>\n",
       "      <td>$88.99</td>\n",
       "      <td>Black, 7\" IPS, Quad-Core 1.2GHz, 8GB, Android 4.2</td>\n",
       "      <td>7 reviews</td>\n",
       "    </tr>\n",
       "    <tr>\n",
       "      <th>3</th>\n",
       "      <td>Acer Iconia</td>\n",
       "      <td>$96.99</td>\n",
       "      <td>7\" screen, Android, 16GB</td>\n",
       "      <td>7 reviews</td>\n",
       "    </tr>\n",
       "    <tr>\n",
       "      <th>4</th>\n",
       "      <td>Galaxy Tab 3</td>\n",
       "      <td>$97.99</td>\n",
       "      <td>7\", 8GB, Wi-Fi, Android 4.2, White</td>\n",
       "      <td>2 reviews</td>\n",
       "    </tr>\n",
       "    <tr>\n",
       "      <th>5</th>\n",
       "      <td>Iconia B1-730H...</td>\n",
       "      <td>$99.99</td>\n",
       "      <td>Black, 7\", 1.6GHz Dual-Core, 8GB, Android 4.4</td>\n",
       "      <td>1 reviews</td>\n",
       "    </tr>\n",
       "    <tr>\n",
       "      <th>6</th>\n",
       "      <td>Memo Pad HD 7</td>\n",
       "      <td>$101.99</td>\n",
       "      <td>IPS, Dual-Core 1.2GHz, 8GB, Android 4.3</td>\n",
       "      <td>10 reviews</td>\n",
       "    </tr>\n",
       "    <tr>\n",
       "      <th>7</th>\n",
       "      <td>Asus MeMO Pad</td>\n",
       "      <td>$102.99</td>\n",
       "      <td>7\" screen, Android, 8GB</td>\n",
       "      <td>14 reviews</td>\n",
       "    </tr>\n",
       "    <tr>\n",
       "      <th>8</th>\n",
       "      <td>Amazon Kindle</td>\n",
       "      <td>$103.99</td>\n",
       "      <td>6\" screen, wifi</td>\n",
       "      <td>3 reviews</td>\n",
       "    </tr>\n",
       "    <tr>\n",
       "      <th>9</th>\n",
       "      <td>Galaxy Tab 3</td>\n",
       "      <td>$107.99</td>\n",
       "      <td>7\", 8GB, Wi-Fi, Android 4.2, Yellow</td>\n",
       "      <td>14 reviews</td>\n",
       "    </tr>\n",
       "    <tr>\n",
       "      <th>10</th>\n",
       "      <td>IdeaTab A8-50</td>\n",
       "      <td>$121.99</td>\n",
       "      <td>Blue, 8\" IPS, Quad-Core 1.3GHz, 16GB, Android 4.2</td>\n",
       "      <td>13 reviews</td>\n",
       "    </tr>\n",
       "    <tr>\n",
       "      <th>11</th>\n",
       "      <td>MeMO Pad 7</td>\n",
       "      <td>$130.99</td>\n",
       "      <td>White, 7\", Atom 1.2GHz, 8GB, Android 4.4</td>\n",
       "      <td>11 reviews</td>\n",
       "    </tr>\n",
       "    <tr>\n",
       "      <th>12</th>\n",
       "      <td>IdeaTab A3500-...</td>\n",
       "      <td>$148.99</td>\n",
       "      <td>Blue, 7\" IPS, Quad-Core 1.3GHz, 8GB, 3G, Andro...</td>\n",
       "      <td>9 reviews</td>\n",
       "    </tr>\n",
       "    <tr>\n",
       "      <th>13</th>\n",
       "      <td>IdeaTab S5000</td>\n",
       "      <td>$172.99</td>\n",
       "      <td>Silver, 7\" IPS, Quad-Core 1.2Ghz, 16GB, 3G, An...</td>\n",
       "      <td>8 reviews</td>\n",
       "    </tr>\n",
       "    <tr>\n",
       "      <th>14</th>\n",
       "      <td>Galaxy Tab 4</td>\n",
       "      <td>$233.99</td>\n",
       "      <td>LTE (SM-T235), Quad-Core 1.2GHz, 8GB, Black</td>\n",
       "      <td>1 reviews</td>\n",
       "    </tr>\n",
       "    <tr>\n",
       "      <th>15</th>\n",
       "      <td>Galaxy Tab</td>\n",
       "      <td>$251.99</td>\n",
       "      <td>16GB, White</td>\n",
       "      <td>14 reviews</td>\n",
       "    </tr>\n",
       "    <tr>\n",
       "      <th>16</th>\n",
       "      <td>MeMo PAD FHD 1...</td>\n",
       "      <td>$320.99</td>\n",
       "      <td>White, 10.1\" IPS, 1.6GHz, 2GB, 16GB, Android 4.2</td>\n",
       "      <td>7 reviews</td>\n",
       "    </tr>\n",
       "    <tr>\n",
       "      <th>17</th>\n",
       "      <td>Galaxy Note</td>\n",
       "      <td>$399.99</td>\n",
       "      <td>10.1\", 3G, Android 4.0, Garnet Red</td>\n",
       "      <td>12 reviews</td>\n",
       "    </tr>\n",
       "    <tr>\n",
       "      <th>18</th>\n",
       "      <td>Galaxy Note</td>\n",
       "      <td>$489.99</td>\n",
       "      <td>12.2\", 32GB, WiFi, Android 4.4, White</td>\n",
       "      <td>9 reviews</td>\n",
       "    </tr>\n",
       "    <tr>\n",
       "      <th>19</th>\n",
       "      <td>iPad Mini Reti...</td>\n",
       "      <td>$537.99</td>\n",
       "      <td>Wi-Fi + Cellular, 32GB, Silver</td>\n",
       "      <td>8 reviews</td>\n",
       "    </tr>\n",
       "    <tr>\n",
       "      <th>20</th>\n",
       "      <td>Galaxy Note 10...</td>\n",
       "      <td>$587.99</td>\n",
       "      <td>10.1\", 32GB, Black</td>\n",
       "      <td>6 reviews</td>\n",
       "    </tr>\n",
       "    <tr>\n",
       "      <th>21</th>\n",
       "      <td>Apple iPad Air</td>\n",
       "      <td>$603.99</td>\n",
       "      <td>Wi-Fi, 64GB, Silver</td>\n",
       "      <td>7 reviews</td>\n",
       "    </tr>\n",
       "  </tbody>\n",
       "</table>\n",
       "</div>"
      ],
      "text/plain": [
       "         product name    price  \\\n",
       "id                               \n",
       "1      Lenovo IdeaTab   $69.99   \n",
       "2      IdeaTab A3500L   $88.99   \n",
       "3         Acer Iconia   $96.99   \n",
       "4        Galaxy Tab 3   $97.99   \n",
       "5   Iconia B1-730H...   $99.99   \n",
       "6       Memo Pad HD 7  $101.99   \n",
       "7       Asus MeMO Pad  $102.99   \n",
       "8       Amazon Kindle  $103.99   \n",
       "9        Galaxy Tab 3  $107.99   \n",
       "10      IdeaTab A8-50  $121.99   \n",
       "11         MeMO Pad 7  $130.99   \n",
       "12  IdeaTab A3500-...  $148.99   \n",
       "13      IdeaTab S5000  $172.99   \n",
       "14       Galaxy Tab 4  $233.99   \n",
       "15         Galaxy Tab  $251.99   \n",
       "16  MeMo PAD FHD 1...  $320.99   \n",
       "17        Galaxy Note  $399.99   \n",
       "18        Galaxy Note  $489.99   \n",
       "19  iPad Mini Reti...  $537.99   \n",
       "20  Galaxy Note 10...  $587.99   \n",
       "21     Apple iPad Air  $603.99   \n",
       "\n",
       "                                          description     reviews  \n",
       "id                                                                 \n",
       "1                                  7\" screen, Android   7 reviews  \n",
       "2   Black, 7\" IPS, Quad-Core 1.2GHz, 8GB, Android 4.2   7 reviews  \n",
       "3                            7\" screen, Android, 16GB   7 reviews  \n",
       "4                  7\", 8GB, Wi-Fi, Android 4.2, White   2 reviews  \n",
       "5       Black, 7\", 1.6GHz Dual-Core, 8GB, Android 4.4   1 reviews  \n",
       "6             IPS, Dual-Core 1.2GHz, 8GB, Android 4.3  10 reviews  \n",
       "7                             7\" screen, Android, 8GB  14 reviews  \n",
       "8                                     6\" screen, wifi   3 reviews  \n",
       "9                 7\", 8GB, Wi-Fi, Android 4.2, Yellow  14 reviews  \n",
       "10  Blue, 8\" IPS, Quad-Core 1.3GHz, 16GB, Android 4.2  13 reviews  \n",
       "11           White, 7\", Atom 1.2GHz, 8GB, Android 4.4  11 reviews  \n",
       "12  Blue, 7\" IPS, Quad-Core 1.3GHz, 8GB, 3G, Andro...   9 reviews  \n",
       "13  Silver, 7\" IPS, Quad-Core 1.2Ghz, 16GB, 3G, An...   8 reviews  \n",
       "14        LTE (SM-T235), Quad-Core 1.2GHz, 8GB, Black   1 reviews  \n",
       "15                                        16GB, White  14 reviews  \n",
       "16   White, 10.1\" IPS, 1.6GHz, 2GB, 16GB, Android 4.2   7 reviews  \n",
       "17                 10.1\", 3G, Android 4.0, Garnet Red  12 reviews  \n",
       "18              12.2\", 32GB, WiFi, Android 4.4, White   9 reviews  \n",
       "19                     Wi-Fi + Cellular, 32GB, Silver   8 reviews  \n",
       "20                                 10.1\", 32GB, Black   6 reviews  \n",
       "21                                Wi-Fi, 64GB, Silver   7 reviews  "
      ]
     },
     "execution_count": 117,
     "metadata": {},
     "output_type": "execute_result"
    }
   ],
   "source": [
    "#Creating a DataFrame\n",
    "df = pd.DataFrame({\"product name\":product_name,\"price\":pricetags,\"description\":descriptions,\"reviews\":review_count},index=pd.RangeIndex(start=1, stop=22, name='id'))\n",
    "df"
   ]
  },
  {
   "cell_type": "code",
   "execution_count": 118,
   "metadata": {},
   "outputs": [],
   "source": [
    "df.to_csv(\"product_details-webscraper-io.csv\")"
   ]
  },
  {
   "cell_type": "markdown",
   "metadata": {},
   "source": [
    "EXTRACTING DATA FROM NESTED HTML TAGS"
   ]
  },
  {
   "cell_type": "code",
   "execution_count": 119,
   "metadata": {},
   "outputs": [
    {
     "name": "stdout",
     "output_type": "stream",
     "text": [
      "21\n"
     ]
    }
   ],
   "source": [
    "nests = soup.find_all(\"div\",class_=\"col-md-4 col-xl-4 col-lg-4\")\n",
    "print(len(nests))"
   ]
  },
  {
   "cell_type": "code",
   "execution_count": 120,
   "metadata": {},
   "outputs": [
    {
     "name": "stdout",
     "output_type": "stream",
     "text": [
      "<div class=\"col-md-4 col-xl-4 col-lg-4\">\n",
      "<div class=\"card product-wrapper thumbnail\">\n",
      "<div class=\"card-body\">\n",
      "<img alt=\"item\" class=\"img-fluid card-img-top image img-responsive\" src=\"/images/test-sites/e-commerce/items/cart2.png\"/>\n",
      "<div class=\"caption\">\n",
      "<h4 class=\"float-end price card-title pull-right\">$97.99</h4>\n",
      "<h4>\n",
      "<a class=\"title\" href=\"/test-sites/e-commerce/allinone/product/503\" title=\"Galaxy Tab 3\">Galaxy Tab 3</a>\n",
      "</h4>\n",
      "<p class=\"description card-text\">7\", 8GB, Wi-Fi, Android 4.2, White</p>\n",
      "</div>\n",
      "<div class=\"ratings\">\n",
      "<p class=\"float-end review-count\">2 reviews</p>\n",
      "<p data-rating=\"2\">\n",
      "<span class=\"ws-icon ws-icon-star\"></span>\n",
      "<span class=\"ws-icon ws-icon-star\"></span>\n",
      "</p>\n",
      "</div>\n",
      "</div>\n",
      "</div>\n",
      "</div>\n"
     ]
    }
   ],
   "source": [
    "box = soup.find_all(\"div\",class_=\"col-md-4 col-xl-4 col-lg-4\")[3]\n",
    "print(box)"
   ]
  },
  {
   "cell_type": "code",
   "execution_count": 122,
   "metadata": {},
   "outputs": [
    {
     "data": {
      "text/plain": [
       "'Galaxy Tab 3'"
      ]
     },
     "execution_count": 122,
     "metadata": {},
     "output_type": "execute_result"
    }
   ],
   "source": [
    "name = box.find(\"a\").text\n",
    "name"
   ]
  },
  {
   "cell_type": "code",
   "execution_count": 124,
   "metadata": {},
   "outputs": [
    {
     "data": {
      "text/plain": [
       "'7\", 8GB, Wi-Fi, Android 4.2, White'"
      ]
     },
     "execution_count": 124,
     "metadata": {},
     "output_type": "execute_result"
    }
   ],
   "source": [
    "desc = box.find(\"p\").text\n",
    "desc"
   ]
  },
  {
   "cell_type": "code",
   "execution_count": 126,
   "metadata": {},
   "outputs": [],
   "source": [
    "url3 = \"https://webscraper.io/test-sites/e-commerce/allinone/computers\"\n",
    "r = requests.get(url3,headers=header)\n",
    "soup = BeautifulSoup(r.text,\"lxml\")"
   ]
  },
  {
   "cell_type": "code",
   "execution_count": 127,
   "metadata": {},
   "outputs": [
    {
     "name": "stdout",
     "output_type": "stream",
     "text": [
      "[<ul class=\"nav flex-column\" id=\"side-menu\">\n",
      "<li class=\"nav-item\">\n",
      "<a class=\"nav-link\" href=\"/test-sites/e-commerce/allinone\">Home</a>\n",
      "</li>\n",
      "<li class=\"nav-item\">\n",
      "<a class=\"category-link nav-link\" href=\"/test-sites/e-commerce/allinone/phones\">\n",
      "\t\t\t\t\tPhones\n",
      "\t\t\t\t\t<i class=\"ws-icon ws-icon-right\"></i>\n",
      "</a>\n",
      "</li>\n",
      "<li class=\"nav-item active\">\n",
      "<a class=\"category-link nav-link active\" href=\"/test-sites/e-commerce/allinone/computers\">\n",
      "\t\t\t\t\tComputers\n",
      "\t\t\t\t\t<i class=\"ws-icon ws-icon-down\"></i>\n",
      "</a>\n",
      "<ul class=\"nav nav-second-level\">\n",
      "<li class=\"nav-item\">\n",
      "<a class=\"nav-link subcategory-link\" href=\"/test-sites/e-commerce/allinone/computers/tablets\">\n",
      "\t\t\t\t\t\t\tTablets\n",
      "\t\t\t\t\t\t</a>\n",
      "</li>\n",
      "<li class=\"nav-item\">\n",
      "<a class=\"nav-link subcategory-link\" href=\"/test-sites/e-commerce/allinone/computers/laptops\">\n",
      "\t\t\t\t\t\t\tLaptops\n",
      "\t\t\t\t\t\t</a>\n",
      "</li>\n",
      "</ul>\n",
      "</li>\n",
      "</ul>]\n"
     ]
    }
   ],
   "source": [
    "nest = soup.find_all(\"ul\",class_=\"nav flex-column\")\n",
    "print(nest)"
   ]
  },
  {
   "cell_type": "code",
   "execution_count": 128,
   "metadata": {},
   "outputs": [
    {
     "name": "stdout",
     "output_type": "stream",
     "text": [
      "[<ul class=\"nav flex-column\" id=\"side-menu\">\n",
      "<li class=\"nav-item\">\n",
      "<a class=\"nav-link\" href=\"/test-sites/e-commerce/allinone\">Home</a>\n",
      "</li>\n",
      "<li class=\"nav-item\">\n",
      "<a class=\"category-link nav-link\" href=\"/test-sites/e-commerce/allinone/phones\">\n",
      "\t\t\t\t\tPhones\n",
      "\t\t\t\t\t<i class=\"ws-icon ws-icon-right\"></i>\n",
      "</a>\n",
      "</li>\n",
      "<li class=\"nav-item active\">\n",
      "<a class=\"category-link nav-link active\" href=\"/test-sites/e-commerce/allinone/computers\">\n",
      "\t\t\t\t\tComputers\n",
      "\t\t\t\t\t<i class=\"ws-icon ws-icon-down\"></i>\n",
      "</a>\n",
      "<ul class=\"nav nav-second-level\">\n",
      "<li class=\"nav-item\">\n",
      "<a class=\"nav-link subcategory-link\" href=\"/test-sites/e-commerce/allinone/computers/tablets\">\n",
      "\t\t\t\t\t\t\tTablets\n",
      "\t\t\t\t\t\t</a>\n",
      "</li>\n",
      "<li class=\"nav-item\">\n",
      "<a class=\"nav-link subcategory-link\" href=\"/test-sites/e-commerce/allinone/computers/laptops\">\n",
      "\t\t\t\t\t\t\tLaptops\n",
      "\t\t\t\t\t\t</a>\n",
      "</li>\n",
      "</ul>\n",
      "</li>\n",
      "</ul>]\n"
     ]
    }
   ],
   "source": [
    "navbar = soup.find_all(\"ul\",class_=\"nav flex-column\",id= \"side-menu\")\n",
    "print(navbar)"
   ]
  },
  {
   "cell_type": "code",
   "execution_count": 140,
   "metadata": {},
   "outputs": [
    {
     "name": "stdout",
     "output_type": "stream",
     "text": [
      "<ul class=\"nav flex-column\" id=\"side-menu\">\n",
      "<li class=\"nav-item\">\n",
      "<a class=\"nav-link\" href=\"/test-sites/e-commerce/allinone\">Home</a>\n",
      "</li>\n",
      "<li class=\"nav-item\">\n",
      "<a class=\"category-link nav-link\" href=\"/test-sites/e-commerce/allinone/phones\">\n",
      "\t\t\t\t\tPhones\n",
      "\t\t\t\t\t<i class=\"ws-icon ws-icon-right\"></i>\n",
      "</a>\n",
      "</li>\n",
      "<li class=\"nav-item active\">\n",
      "<a class=\"category-link nav-link active\" href=\"/test-sites/e-commerce/allinone/computers\">\n",
      "\t\t\t\t\tComputers\n",
      "\t\t\t\t\t<i class=\"ws-icon ws-icon-down\"></i>\n",
      "</a>\n",
      "<ul class=\"nav nav-second-level\">\n",
      "<li class=\"nav-item\">\n",
      "<a class=\"nav-link subcategory-link\" href=\"/test-sites/e-commerce/allinone/computers/tablets\">\n",
      "\t\t\t\t\t\t\tTablets\n",
      "\t\t\t\t\t\t</a>\n",
      "</li>\n",
      "<li class=\"nav-item\">\n",
      "<a class=\"nav-link subcategory-link\" href=\"/test-sites/e-commerce/allinone/computers/laptops\">\n",
      "\t\t\t\t\t\t\tLaptops\n",
      "\t\t\t\t\t\t</a>\n",
      "</li>\n",
      "</ul>\n",
      "</li>\n",
      "</ul>\n"
     ]
    }
   ],
   "source": [
    "navbar = soup.find_all(\"ul\",{\"class\":\"nav flex-column\",\"id\": \"side-menu\"})[0]\n",
    "print(navbar)"
   ]
  },
  {
   "cell_type": "code",
   "execution_count": 143,
   "metadata": {},
   "outputs": [
    {
     "name": "stdout",
     "output_type": "stream",
     "text": [
      "\n",
      "\n",
      "\t\t\t\t\tComputers\n",
      "\t\t\t\t\t\n",
      "\n",
      "\n",
      "\n",
      "\n",
      "\t\t\t\t\t\t\tTablets\n",
      "\t\t\t\t\t\t\n",
      "\n",
      "\n",
      "\n",
      "\t\t\t\t\t\t\tLaptops\n",
      "\t\t\t\t\t\t\n",
      "\n",
      "\n",
      "\n"
     ]
    }
   ],
   "source": [
    "navtext = navbar.find_all(\"li\",class_=\"nav-item active\")[0]\n",
    "print(navtext.text)"
   ]
  },
  {
   "cell_type": "markdown",
   "metadata": {},
   "source": [
    "SCRAPING A TABLE FROM A WEBSITE USING BEAUTIFULSOUP"
   ]
  },
  {
   "cell_type": "code",
   "execution_count": 144,
   "metadata": {},
   "outputs": [
    {
     "data": {
      "text/plain": [
       "<Response [200]>"
      ]
     },
     "execution_count": 144,
     "metadata": {},
     "output_type": "execute_result"
    }
   ],
   "source": [
    "url = \"https://ticker.finology.in\"\n",
    "r = requests.get(url)\n",
    "r"
   ]
  },
  {
   "cell_type": "code",
   "execution_count": 146,
   "metadata": {},
   "outputs": [
    {
     "name": "stdout",
     "output_type": "stream",
     "text": [
      "<table class=\"table table-sm table-hover screenertable\">\n",
      "<thead>\n",
      "<tr>\n",
      "<th scope=\"col\">Company</th>\n",
      "<th scope=\"col\">Price<span class=\"muted\">Rs.</span></th>\n",
      "<th scope=\"col\">Day High<span class=\"muted\">Rs.</span></th>\n",
      "</tr>\n",
      "</thead>\n",
      "<tbody>\n",
      "<tr>\n",
      "<td>\n",
      "<a class=\"complink\" href=\"company/TATAMOTORS\">Tata Motors</a>\n",
      "</td>\n",
      "<td class=\"Number\">667.10</td>\n",
      "<td class=\"Number\">669.00</td>\n",
      "</tr>\n",
      "<tr>\n",
      "<td>\n",
      "<a class=\"complink\" href=\"company/ITI\">ITI</a>\n",
      "</td>\n",
      "<td class=\"Number\">271.10</td>\n",
      "<td class=\"Number\">271.10</td>\n",
      "</tr>\n",
      "<tr>\n",
      "<td>\n",
      "<a class=\"complink\" href=\"company/ANGELONE\">Angel One</a>\n",
      "</td>\n",
      "<td class=\"Number\">2069.60</td>\n",
      "<td class=\"Number\">2249.25</td>\n",
      "</tr>\n",
      "<tr>\n",
      "<td>\n",
      "<a class=\"complink\" href=\"company/MMTC\">MMTC</a>\n",
      "</td>\n",
      "<td class=\"Number\">74.60</td>\n",
      "<td class=\"Number\">79.95</td>\n",
      "</tr>\n",
      "<tr>\n",
      "<td>\n",
      "<a class=\"complink\" href=\"company/HDFCAMC\">HDFC Asset Mngt. Co</a>\n",
      "</td>\n",
      "<td class=\"Number\">2855.50</td>\n",
      "<td class=\"Number\">2910.00</td>\n",
      "</tr>\n",
      "<tr>\n",
      "<td>\n",
      "<a class=\"complink\" href=\"company/MARUTI\">Maruti Suzuki</a>\n",
      "</td>\n",
      "<td class=\"Number\">10727.55</td>\n",
      "<td class=\"Number\">10745.05</td>\n",
      "</tr>\n",
      "<tr>\n",
      "<td>\n",
      "<a class=\"complink\" href=\"company/NMDC\">NMDC</a>\n",
      "</td>\n",
      "<td class=\"Number\">159.90</td>\n",
      "<td class=\"Number\">164.10</td>\n",
      "</tr>\n",
      "<tr>\n",
      "<td>\n",
      "<a class=\"complink\" href=\"company/JAICORPLTD\">Jai Corp</a>\n",
      "</td>\n",
      "<td class=\"Number\">286.10</td>\n",
      "<td class=\"Number\">286.10</td>\n",
      "</tr>\n",
      "<tr>\n",
      "<td>\n",
      "<a class=\"complink\" href=\"company/TATACONSUM\">Tata Consumer Produc</a>\n",
      "</td>\n",
      "<td class=\"Number\">913.35</td>\n",
      "<td class=\"Number\">918.00</td>\n",
      "</tr>\n",
      "<tr>\n",
      "<td>\n",
      "<a class=\"complink\" href=\"company/GAIL\">GAIL India</a>\n",
      "</td>\n",
      "<td class=\"Number\">128.25</td>\n",
      "<td class=\"Number\">132.15</td>\n",
      "</tr>\n",
      "<tr>\n",
      "<td>\n",
      "<a class=\"complink\" href=\"company/DLF\">DLF</a>\n",
      "</td>\n",
      "<td class=\"Number\">568.40</td>\n",
      "<td class=\"Number\">576.75</td>\n",
      "</tr>\n",
      "<tr>\n",
      "<td>\n",
      "<a class=\"complink\" href=\"company/AGI\">AGI Greenpac</a>\n",
      "</td>\n",
      "<td class=\"Number\">1067.00</td>\n",
      "<td class=\"Number\">1089.00</td>\n",
      "</tr>\n",
      "<tr>\n",
      "<td>\n",
      "<a class=\"complink\" href=\"company/COALINDIA\">Coal India</a>\n",
      "</td>\n",
      "<td class=\"Number\">307.95</td>\n",
      "<td class=\"Number\">310.85</td>\n",
      "</tr>\n",
      "<tr>\n",
      "<td>\n",
      "<a class=\"complink\" href=\"company/RECLTD\">REC</a>\n",
      "</td>\n",
      "<td class=\"Number\">293.25</td>\n",
      "<td class=\"Number\">296.95</td>\n",
      "</tr>\n",
      "<tr>\n",
      "<td>\n",
      "<a class=\"complink\" href=\"company/FEDERALBNK\">Federal Bank</a>\n",
      "</td>\n",
      "<td class=\"Number\">149.40</td>\n",
      "<td class=\"Number\">152.10</td>\n",
      "</tr>\n",
      "</tbody>\n",
      "</table>\n"
     ]
    }
   ],
   "source": [
    "soup = BeautifulSoup(r.text,\"lxml\")\n",
    "table = soup.find('table',class_=\"table table-sm table-hover screenertable\")\n",
    "print(table)"
   ]
  },
  {
   "cell_type": "code",
   "execution_count": 148,
   "metadata": {},
   "outputs": [
    {
     "data": {
      "text/plain": [
       "['Company', 'PriceRs.', 'Day HighRs.']"
      ]
     },
     "execution_count": 148,
     "metadata": {},
     "output_type": "execute_result"
    }
   ],
   "source": [
    "header = table.findAll(\"th\")\n",
    "headers = []\n",
    "for head in header:\n",
    "    text = head.text\n",
    "    headers.append(text)\n",
    "headers"
   ]
  },
  {
   "cell_type": "code",
   "execution_count": 178,
   "metadata": {},
   "outputs": [
    {
     "data": {
      "text/html": [
       "<div>\n",
       "<style scoped>\n",
       "    .dataframe tbody tr th:only-of-type {\n",
       "        vertical-align: middle;\n",
       "    }\n",
       "\n",
       "    .dataframe tbody tr th {\n",
       "        vertical-align: top;\n",
       "    }\n",
       "\n",
       "    .dataframe thead th {\n",
       "        text-align: right;\n",
       "    }\n",
       "</style>\n",
       "<table border=\"1\" class=\"dataframe\">\n",
       "  <thead>\n",
       "    <tr style=\"text-align: right;\">\n",
       "      <th></th>\n",
       "      <th>Company</th>\n",
       "      <th>PriceRs.</th>\n",
       "      <th>Day HighRs.</th>\n",
       "    </tr>\n",
       "  </thead>\n",
       "  <tbody>\n",
       "  </tbody>\n",
       "</table>\n",
       "</div>"
      ],
      "text/plain": [
       "Empty DataFrame\n",
       "Columns: [Company, PriceRs., Day HighRs.]\n",
       "Index: []"
      ]
     },
     "execution_count": 178,
     "metadata": {},
     "output_type": "execute_result"
    }
   ],
   "source": [
    "df = pd.DataFrame(columns=headers)\n",
    "df"
   ]
  },
  {
   "cell_type": "markdown",
   "metadata": {},
   "source": [
    "CONTINUATION OF TABLE EXTRACTION FROM WEBSITES"
   ]
  },
  {
   "cell_type": "code",
   "execution_count": 150,
   "metadata": {},
   "outputs": [
    {
     "data": {
      "text/plain": [
       "[<tr>\n",
       " <th scope=\"col\">Company</th>\n",
       " <th scope=\"col\">Price<span class=\"muted\">Rs.</span></th>\n",
       " <th scope=\"col\">Day High<span class=\"muted\">Rs.</span></th>\n",
       " </tr>,\n",
       " <tr>\n",
       " <td>\n",
       " <a class=\"complink\" href=\"company/TATAMOTORS\">Tata Motors</a>\n",
       " </td>\n",
       " <td class=\"Number\">667.10</td>\n",
       " <td class=\"Number\">669.00</td>\n",
       " </tr>,\n",
       " <tr>\n",
       " <td>\n",
       " <a class=\"complink\" href=\"company/ITI\">ITI</a>\n",
       " </td>\n",
       " <td class=\"Number\">271.10</td>\n",
       " <td class=\"Number\">271.10</td>\n",
       " </tr>,\n",
       " <tr>\n",
       " <td>\n",
       " <a class=\"complink\" href=\"company/ANGELONE\">Angel One</a>\n",
       " </td>\n",
       " <td class=\"Number\">2069.60</td>\n",
       " <td class=\"Number\">2249.25</td>\n",
       " </tr>,\n",
       " <tr>\n",
       " <td>\n",
       " <a class=\"complink\" href=\"company/MMTC\">MMTC</a>\n",
       " </td>\n",
       " <td class=\"Number\">74.60</td>\n",
       " <td class=\"Number\">79.95</td>\n",
       " </tr>,\n",
       " <tr>\n",
       " <td>\n",
       " <a class=\"complink\" href=\"company/HDFCAMC\">HDFC Asset Mngt. Co</a>\n",
       " </td>\n",
       " <td class=\"Number\">2855.50</td>\n",
       " <td class=\"Number\">2910.00</td>\n",
       " </tr>,\n",
       " <tr>\n",
       " <td>\n",
       " <a class=\"complink\" href=\"company/MARUTI\">Maruti Suzuki</a>\n",
       " </td>\n",
       " <td class=\"Number\">10727.55</td>\n",
       " <td class=\"Number\">10745.05</td>\n",
       " </tr>,\n",
       " <tr>\n",
       " <td>\n",
       " <a class=\"complink\" href=\"company/NMDC\">NMDC</a>\n",
       " </td>\n",
       " <td class=\"Number\">159.90</td>\n",
       " <td class=\"Number\">164.10</td>\n",
       " </tr>,\n",
       " <tr>\n",
       " <td>\n",
       " <a class=\"complink\" href=\"company/JAICORPLTD\">Jai Corp</a>\n",
       " </td>\n",
       " <td class=\"Number\">286.10</td>\n",
       " <td class=\"Number\">286.10</td>\n",
       " </tr>,\n",
       " <tr>\n",
       " <td>\n",
       " <a class=\"complink\" href=\"company/TATACONSUM\">Tata Consumer Produc</a>\n",
       " </td>\n",
       " <td class=\"Number\">913.35</td>\n",
       " <td class=\"Number\">918.00</td>\n",
       " </tr>,\n",
       " <tr>\n",
       " <td>\n",
       " <a class=\"complink\" href=\"company/GAIL\">GAIL India</a>\n",
       " </td>\n",
       " <td class=\"Number\">128.25</td>\n",
       " <td class=\"Number\">132.15</td>\n",
       " </tr>,\n",
       " <tr>\n",
       " <td>\n",
       " <a class=\"complink\" href=\"company/DLF\">DLF</a>\n",
       " </td>\n",
       " <td class=\"Number\">568.40</td>\n",
       " <td class=\"Number\">576.75</td>\n",
       " </tr>,\n",
       " <tr>\n",
       " <td>\n",
       " <a class=\"complink\" href=\"company/AGI\">AGI Greenpac</a>\n",
       " </td>\n",
       " <td class=\"Number\">1067.00</td>\n",
       " <td class=\"Number\">1089.00</td>\n",
       " </tr>,\n",
       " <tr>\n",
       " <td>\n",
       " <a class=\"complink\" href=\"company/COALINDIA\">Coal India</a>\n",
       " </td>\n",
       " <td class=\"Number\">307.95</td>\n",
       " <td class=\"Number\">310.85</td>\n",
       " </tr>,\n",
       " <tr>\n",
       " <td>\n",
       " <a class=\"complink\" href=\"company/RECLTD\">REC</a>\n",
       " </td>\n",
       " <td class=\"Number\">293.25</td>\n",
       " <td class=\"Number\">296.95</td>\n",
       " </tr>,\n",
       " <tr>\n",
       " <td>\n",
       " <a class=\"complink\" href=\"company/FEDERALBNK\">Federal Bank</a>\n",
       " </td>\n",
       " <td class=\"Number\">149.40</td>\n",
       " <td class=\"Number\">152.10</td>\n",
       " </tr>]"
      ]
     },
     "execution_count": 150,
     "metadata": {},
     "output_type": "execute_result"
    }
   ],
   "source": [
    "rows = table.find_all(\"tr\")\n",
    "rows"
   ]
  },
  {
   "cell_type": "code",
   "execution_count": 151,
   "metadata": {},
   "outputs": [
    {
     "data": {
      "text/plain": [
       "<tr>\n",
       "<th scope=\"col\">Company</th>\n",
       "<th scope=\"col\">Price<span class=\"muted\">Rs.</span></th>\n",
       "<th scope=\"col\">Day High<span class=\"muted\">Rs.</span></th>\n",
       "</tr>"
      ]
     },
     "execution_count": 151,
     "metadata": {},
     "output_type": "execute_result"
    }
   ],
   "source": [
    "rows[0]"
   ]
  },
  {
   "cell_type": "code",
   "execution_count": 179,
   "metadata": {},
   "outputs": [
    {
     "name": "stdout",
     "output_type": "stream",
     "text": [
      "['\\nTata Motors\\n', '667.10', '669.00']\n",
      "['\\nITI\\n', '271.10', '271.10']\n",
      "['\\nAngel One\\n', '2069.60', '2249.25']\n",
      "['\\nMMTC\\n', '74.60', '79.95']\n",
      "['\\nHDFC Asset Mngt. Co\\n', '2855.50', '2910.00']\n",
      "['\\nMaruti Suzuki\\n', '10727.55', '10745.05']\n",
      "['\\nNMDC\\n', '159.90', '164.10']\n",
      "['\\nJai Corp\\n', '286.10', '286.10']\n",
      "['\\nTata Consumer Produc\\n', '913.35', '918.00']\n",
      "['\\nGAIL India\\n', '128.25', '132.15']\n",
      "['\\nDLF\\n', '568.40', '576.75']\n",
      "['\\nAGI Greenpac\\n', '1067.00', '1089.00']\n",
      "['\\nCoal India\\n', '307.95', '310.85']\n",
      "['\\nREC\\n', '293.25', '296.95']\n",
      "['\\nFederal Bank\\n', '149.40', '152.10']\n"
     ]
    }
   ],
   "source": [
    "for i in rows[1:]:\n",
    "    #print(row.text)\n",
    "    data = i.find_all('td')\n",
    "    #print(data)\n",
    "    row = [tr.text for tr in data]\n",
    "    print(row)\n",
    "    l = len(df)\n",
    "    df.loc[l] = row"
   ]
  },
  {
   "cell_type": "code",
   "execution_count": 180,
   "metadata": {},
   "outputs": [
    {
     "data": {
      "text/html": [
       "<div>\n",
       "<style scoped>\n",
       "    .dataframe tbody tr th:only-of-type {\n",
       "        vertical-align: middle;\n",
       "    }\n",
       "\n",
       "    .dataframe tbody tr th {\n",
       "        vertical-align: top;\n",
       "    }\n",
       "\n",
       "    .dataframe thead th {\n",
       "        text-align: right;\n",
       "    }\n",
       "</style>\n",
       "<table border=\"1\" class=\"dataframe\">\n",
       "  <thead>\n",
       "    <tr style=\"text-align: right;\">\n",
       "      <th></th>\n",
       "      <th>Company</th>\n",
       "      <th>PriceRs.</th>\n",
       "      <th>Day HighRs.</th>\n",
       "    </tr>\n",
       "  </thead>\n",
       "  <tbody>\n",
       "    <tr>\n",
       "      <th>0</th>\n",
       "      <td>\\nTata Motors\\n</td>\n",
       "      <td>667.10</td>\n",
       "      <td>669.00</td>\n",
       "    </tr>\n",
       "    <tr>\n",
       "      <th>1</th>\n",
       "      <td>\\nITI\\n</td>\n",
       "      <td>271.10</td>\n",
       "      <td>271.10</td>\n",
       "    </tr>\n",
       "    <tr>\n",
       "      <th>2</th>\n",
       "      <td>\\nAngel One\\n</td>\n",
       "      <td>2069.60</td>\n",
       "      <td>2249.25</td>\n",
       "    </tr>\n",
       "    <tr>\n",
       "      <th>3</th>\n",
       "      <td>\\nMMTC\\n</td>\n",
       "      <td>74.60</td>\n",
       "      <td>79.95</td>\n",
       "    </tr>\n",
       "    <tr>\n",
       "      <th>4</th>\n",
       "      <td>\\nHDFC Asset Mngt. Co\\n</td>\n",
       "      <td>2855.50</td>\n",
       "      <td>2910.00</td>\n",
       "    </tr>\n",
       "    <tr>\n",
       "      <th>5</th>\n",
       "      <td>\\nMaruti Suzuki\\n</td>\n",
       "      <td>10727.55</td>\n",
       "      <td>10745.05</td>\n",
       "    </tr>\n",
       "    <tr>\n",
       "      <th>6</th>\n",
       "      <td>\\nNMDC\\n</td>\n",
       "      <td>159.90</td>\n",
       "      <td>164.10</td>\n",
       "    </tr>\n",
       "    <tr>\n",
       "      <th>7</th>\n",
       "      <td>\\nJai Corp\\n</td>\n",
       "      <td>286.10</td>\n",
       "      <td>286.10</td>\n",
       "    </tr>\n",
       "    <tr>\n",
       "      <th>8</th>\n",
       "      <td>\\nTata Consumer Produc\\n</td>\n",
       "      <td>913.35</td>\n",
       "      <td>918.00</td>\n",
       "    </tr>\n",
       "    <tr>\n",
       "      <th>9</th>\n",
       "      <td>\\nGAIL India\\n</td>\n",
       "      <td>128.25</td>\n",
       "      <td>132.15</td>\n",
       "    </tr>\n",
       "    <tr>\n",
       "      <th>10</th>\n",
       "      <td>\\nDLF\\n</td>\n",
       "      <td>568.40</td>\n",
       "      <td>576.75</td>\n",
       "    </tr>\n",
       "    <tr>\n",
       "      <th>11</th>\n",
       "      <td>\\nAGI Greenpac\\n</td>\n",
       "      <td>1067.00</td>\n",
       "      <td>1089.00</td>\n",
       "    </tr>\n",
       "    <tr>\n",
       "      <th>12</th>\n",
       "      <td>\\nCoal India\\n</td>\n",
       "      <td>307.95</td>\n",
       "      <td>310.85</td>\n",
       "    </tr>\n",
       "    <tr>\n",
       "      <th>13</th>\n",
       "      <td>\\nREC\\n</td>\n",
       "      <td>293.25</td>\n",
       "      <td>296.95</td>\n",
       "    </tr>\n",
       "    <tr>\n",
       "      <th>14</th>\n",
       "      <td>\\nFederal Bank\\n</td>\n",
       "      <td>149.40</td>\n",
       "      <td>152.10</td>\n",
       "    </tr>\n",
       "  </tbody>\n",
       "</table>\n",
       "</div>"
      ],
      "text/plain": [
       "                     Company  PriceRs. Day HighRs.\n",
       "0            \\nTata Motors\\n    667.10      669.00\n",
       "1                    \\nITI\\n    271.10      271.10\n",
       "2              \\nAngel One\\n   2069.60     2249.25\n",
       "3                   \\nMMTC\\n     74.60       79.95\n",
       "4    \\nHDFC Asset Mngt. Co\\n   2855.50     2910.00\n",
       "5          \\nMaruti Suzuki\\n  10727.55    10745.05\n",
       "6                   \\nNMDC\\n    159.90      164.10\n",
       "7               \\nJai Corp\\n    286.10      286.10\n",
       "8   \\nTata Consumer Produc\\n    913.35      918.00\n",
       "9             \\nGAIL India\\n    128.25      132.15\n",
       "10                   \\nDLF\\n    568.40      576.75\n",
       "11          \\nAGI Greenpac\\n   1067.00     1089.00\n",
       "12            \\nCoal India\\n    307.95      310.85\n",
       "13                   \\nREC\\n    293.25      296.95\n",
       "14          \\nFederal Bank\\n    149.40      152.10"
      ]
     },
     "execution_count": 180,
     "metadata": {},
     "output_type": "execute_result"
    }
   ],
   "source": [
    "df"
   ]
  },
  {
   "cell_type": "code",
   "execution_count": 184,
   "metadata": {},
   "outputs": [
    {
     "data": {
      "text/plain": [
       "0              \\nTata Motors\\n\n",
       "1                      \\nITI\\n\n",
       "2                \\nAngel One\\n\n",
       "3                     \\nMMTC\\n\n",
       "4      \\nHDFC Asset Mngt. Co\\n\n",
       "5            \\nMaruti Suzuki\\n\n",
       "6                     \\nNMDC\\n\n",
       "7                 \\nJai Corp\\n\n",
       "8     \\nTata Consumer Produc\\n\n",
       "9               \\nGAIL India\\n\n",
       "10                     \\nDLF\\n\n",
       "11            \\nAGI Greenpac\\n\n",
       "12              \\nCoal India\\n\n",
       "13                     \\nREC\\n\n",
       "14            \\nFederal Bank\\n\n",
       "Name: Company, dtype: object"
      ]
     },
     "execution_count": 184,
     "metadata": {},
     "output_type": "execute_result"
    }
   ],
   "source": [
    "df[\"Company\"]"
   ]
  },
  {
   "cell_type": "code",
   "execution_count": 185,
   "metadata": {},
   "outputs": [],
   "source": [
    "df['Company'] = df['Company'].str.replace('\\n', '')"
   ]
  },
  {
   "cell_type": "code",
   "execution_count": 186,
   "metadata": {},
   "outputs": [
    {
     "data": {
      "text/html": [
       "<div>\n",
       "<style scoped>\n",
       "    .dataframe tbody tr th:only-of-type {\n",
       "        vertical-align: middle;\n",
       "    }\n",
       "\n",
       "    .dataframe tbody tr th {\n",
       "        vertical-align: top;\n",
       "    }\n",
       "\n",
       "    .dataframe thead th {\n",
       "        text-align: right;\n",
       "    }\n",
       "</style>\n",
       "<table border=\"1\" class=\"dataframe\">\n",
       "  <thead>\n",
       "    <tr style=\"text-align: right;\">\n",
       "      <th></th>\n",
       "      <th>Company</th>\n",
       "      <th>PriceRs.</th>\n",
       "      <th>Day HighRs.</th>\n",
       "    </tr>\n",
       "  </thead>\n",
       "  <tbody>\n",
       "    <tr>\n",
       "      <th>0</th>\n",
       "      <td>Tata Motors</td>\n",
       "      <td>667.10</td>\n",
       "      <td>669.00</td>\n",
       "    </tr>\n",
       "    <tr>\n",
       "      <th>1</th>\n",
       "      <td>ITI</td>\n",
       "      <td>271.10</td>\n",
       "      <td>271.10</td>\n",
       "    </tr>\n",
       "    <tr>\n",
       "      <th>2</th>\n",
       "      <td>Angel One</td>\n",
       "      <td>2069.60</td>\n",
       "      <td>2249.25</td>\n",
       "    </tr>\n",
       "    <tr>\n",
       "      <th>3</th>\n",
       "      <td>MMTC</td>\n",
       "      <td>74.60</td>\n",
       "      <td>79.95</td>\n",
       "    </tr>\n",
       "    <tr>\n",
       "      <th>4</th>\n",
       "      <td>HDFC Asset Mngt. Co</td>\n",
       "      <td>2855.50</td>\n",
       "      <td>2910.00</td>\n",
       "    </tr>\n",
       "    <tr>\n",
       "      <th>5</th>\n",
       "      <td>Maruti Suzuki</td>\n",
       "      <td>10727.55</td>\n",
       "      <td>10745.05</td>\n",
       "    </tr>\n",
       "    <tr>\n",
       "      <th>6</th>\n",
       "      <td>NMDC</td>\n",
       "      <td>159.90</td>\n",
       "      <td>164.10</td>\n",
       "    </tr>\n",
       "    <tr>\n",
       "      <th>7</th>\n",
       "      <td>Jai Corp</td>\n",
       "      <td>286.10</td>\n",
       "      <td>286.10</td>\n",
       "    </tr>\n",
       "    <tr>\n",
       "      <th>8</th>\n",
       "      <td>Tata Consumer Produc</td>\n",
       "      <td>913.35</td>\n",
       "      <td>918.00</td>\n",
       "    </tr>\n",
       "    <tr>\n",
       "      <th>9</th>\n",
       "      <td>GAIL India</td>\n",
       "      <td>128.25</td>\n",
       "      <td>132.15</td>\n",
       "    </tr>\n",
       "    <tr>\n",
       "      <th>10</th>\n",
       "      <td>DLF</td>\n",
       "      <td>568.40</td>\n",
       "      <td>576.75</td>\n",
       "    </tr>\n",
       "    <tr>\n",
       "      <th>11</th>\n",
       "      <td>AGI Greenpac</td>\n",
       "      <td>1067.00</td>\n",
       "      <td>1089.00</td>\n",
       "    </tr>\n",
       "    <tr>\n",
       "      <th>12</th>\n",
       "      <td>Coal India</td>\n",
       "      <td>307.95</td>\n",
       "      <td>310.85</td>\n",
       "    </tr>\n",
       "    <tr>\n",
       "      <th>13</th>\n",
       "      <td>REC</td>\n",
       "      <td>293.25</td>\n",
       "      <td>296.95</td>\n",
       "    </tr>\n",
       "    <tr>\n",
       "      <th>14</th>\n",
       "      <td>Federal Bank</td>\n",
       "      <td>149.40</td>\n",
       "      <td>152.10</td>\n",
       "    </tr>\n",
       "  </tbody>\n",
       "</table>\n",
       "</div>"
      ],
      "text/plain": [
       "                 Company  PriceRs. Day HighRs.\n",
       "0            Tata Motors    667.10      669.00\n",
       "1                    ITI    271.10      271.10\n",
       "2              Angel One   2069.60     2249.25\n",
       "3                   MMTC     74.60       79.95\n",
       "4    HDFC Asset Mngt. Co   2855.50     2910.00\n",
       "5          Maruti Suzuki  10727.55    10745.05\n",
       "6                   NMDC    159.90      164.10\n",
       "7               Jai Corp    286.10      286.10\n",
       "8   Tata Consumer Produc    913.35      918.00\n",
       "9             GAIL India    128.25      132.15\n",
       "10                   DLF    568.40      576.75\n",
       "11          AGI Greenpac   1067.00     1089.00\n",
       "12            Coal India    307.95      310.85\n",
       "13                   REC    293.25      296.95\n",
       "14          Federal Bank    149.40      152.10"
      ]
     },
     "execution_count": 186,
     "metadata": {},
     "output_type": "execute_result"
    }
   ],
   "source": [
    "df"
   ]
  },
  {
   "cell_type": "code",
   "execution_count": 187,
   "metadata": {},
   "outputs": [],
   "source": [
    "df.to_csv(\"stock_market_data.csv\")"
   ]
  },
  {
   "cell_type": "code",
   "execution_count": null,
   "metadata": {},
   "outputs": [],
   "source": []
  }
 ],
 "metadata": {
  "kernelspec": {
   "display_name": "Python 3 (ipykernel)",
   "language": "python",
   "name": "python3"
  },
  "language_info": {
   "codemirror_mode": {
    "name": "ipython",
    "version": 3
   },
   "file_extension": ".py",
   "mimetype": "text/x-python",
   "name": "python",
   "nbconvert_exporter": "python",
   "pygments_lexer": "ipython3",
   "version": "3.11.4"
  }
 },
 "nbformat": 4,
 "nbformat_minor": 2
}
